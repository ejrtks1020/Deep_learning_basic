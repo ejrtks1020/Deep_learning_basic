{
  "nbformat": 4,
  "nbformat_minor": 0,
  "metadata": {
    "colab": {
      "name": "_8 오차역전파 (Backpropagation)",
      "provenance": [],
      "collapsed_sections": [],
      "include_colab_link": true
    },
    "kernelspec": {
      "name": "python3",
      "display_name": "Python 3"
    }
  },
  "cells": [
    {
      "cell_type": "markdown",
      "metadata": {
        "id": "view-in-github",
        "colab_type": "text"
      },
      "source": [
        "<a href=\"https://colab.research.google.com/github/ejrtks1020/Deep_learning_basic/blob/main/_8_%EC%98%A4%EC%B0%A8%EC%97%AD%EC%A0%84%ED%8C%8C_(Backpropagation).ipynb\" target=\"_parent\"><img src=\"https://colab.research.google.com/assets/colab-badge.svg\" alt=\"Open In Colab\"/></a>"
      ]
    },
    {
      "cell_type": "markdown",
      "metadata": {
        "id": "S9Db_VsP_m1S"
      },
      "source": [
        "## 오차역전파 (Backpropagation)\n"
      ]
    },
    {
      "cell_type": "markdown",
      "metadata": {
        "id": "8Vdi2PAG_3lW"
      },
      "source": [
        "### 오차역전파 알고리즘\n",
        "- 학습 데이터로 정방향(forward) 연산을 통해 손실함수 값(loss)을 구함\n",
        "\n",
        "- 각 layer별로 역전파학습을 위해 중간값을 저장\n",
        "\n",
        "- 손실함수를 학습 파라미터(가중치, 편향)로 미분하여  \n",
        "  마지막 layer로부터 앞으로 하나씩 연쇄법칙을 이용하여 미분\n",
        "  각 layer를 통과할 때마다 저장된 값을 이용\n",
        "\n",
        "- 오류(error)를 전달하면서 학습 파라미터를 조금씩 갱신\n"
      ]
    },
    {
      "cell_type": "markdown",
      "metadata": {
        "id": "-o545ezeUuSB"
      },
      "source": [
        "### 오차역전파 학습의 특징\n",
        "- 손실함수를 통한 평가를 한 번만 하고, 연쇄법칙을 이용한 미분을 활용하기 때문에  \n",
        "  학습 소요시간이 매우 단축!\n",
        "\n",
        "- 미분을 위한 중간값을 모두 저장하기 때문에 메모리를 많이 사용\n"
      ]
    },
    {
      "cell_type": "markdown",
      "metadata": {
        "id": "CFoTt-ds_w8C"
      },
      "source": [
        "### 신경망 학습에 있어서 미분가능의 중요성\n",
        "- 경사하강법(Gradient Descent)에서 손실 함수(cost function)의 최소값,  \n",
        "  즉, 최적값을 찾기 위한 방법으로 미분을 활용\n",
        "\n",
        "- 미분을 통해 손실 함수의 학습 매개변수(trainable parameter)를 갱신하여  \n",
        "  모델의 가중치의 최적값을 찾는 과정\n",
        "\n",
        "![](https://i.pinimg.com/originals/5d/13/20/5d1320c7b672710834e63b95a7c1037b.png)\n",
        "\n",
        "<sub>출처: https://www.pinterest.co.kr/pin/424816177350692379/</sub>"
      ]
    },
    {
      "cell_type": "markdown",
      "metadata": {
        "id": "ilYRMqLeQf6Z"
      },
      "source": [
        "### 합성함수의 미분 (연쇄법칙, chain rule)\n",
        "\n",
        "## $\\qquad \\frac{d}{dx} [f(g(x))] = f^\\prime(g(x))g^\\prime(x)$  \n",
        " \n",
        "\n",
        "- 여러 개 연속으로 사용가능  \n",
        "  ## $ \\quad \\frac{\\partial f}{\\partial x} = \\frac{\\partial f}{\\partial u} \\times \\frac{\\partial u}{\\partial m} \\times \\frac{\\partial m}{\\partial n} \\times \\ ... \\ \\frac{\\partial l}{\\partial k} \\times \\frac{\\partial k}{\\partial g} \\times \\frac{\\partial g}{\\partial x} \n",
        "  $\n",
        "- 각각에 대해 편미분 적용가능\n",
        "\n",
        "![](https://cdn-media-1.freecodecamp.org/images/1*_KMMFvRP5X9kC59brI0ykw.png)\n",
        "<sub>출처: https://www.freecodecamp.org/news/demystifying-gradient-descent-and-backpropagation-via-logistic-regression-based-image-classification-9b5526c2ed46/</sub>\n",
        "\n",
        "- **오차역전파의 직관적 이해**\n",
        "  - 학습을 진행하면서, 즉 손실함수의 최소값(minimum)을 찾아가는 과정에서 가중치 또는 편향의 변화에 따라 얼마나 영향을 받는지 알 수 있음\n",
        "\n"
      ]
    },
    {
      "cell_type": "markdown",
      "metadata": {
        "id": "6NLF8CXiQkuL"
      },
      "source": [
        "#### 합성함수 미분(chain rule) 예제\n",
        "\n",
        "![](https://miro.medium.com/max/1000/1*azqHvbrNsZ8AIZ7H75tbIQ.jpeg)\n",
        "\n",
        "<sub>출처: https://medium.com/spidernitt/breaking-down-neural-networks-an-intuitive-approach-to-backpropagation-3b2ff958794c</sub>\n",
        "\n",
        "  #### $\\quad a=-1, \\ b=3, \\ c=4$,\n",
        "  #### $\\quad x = a + b, \\ y = b + c, \\ f = x * y \\ 일 때$    \n",
        "\n",
        "\n",
        "\n",
        "  ### $\\quad \\begin{matrix}\\frac{\\partial f}{\\partial x} &=& y\\ + \\ x \\ \\frac{\\partial y}{\\partial x} \\\\\n",
        "  &=& (b \\ + \\ c) \\ + \\ (a \\ +\\ b)\\ \\times \\ 0 \\\\\n",
        "  &=& 7 \\end{matrix}$\n",
        "\n",
        "  ### $\\quad \\begin{matrix}\\frac{\\partial f}{\\partial y} &=& x\\ + \\ \\frac{\\partial x}{\\partial y} \\ y \\\\\n",
        "  &=& (a \\ + \\ b) \\ + \\ 0 \\times (b \\ +\\ c) \\\\\n",
        "  &=& 2 \\end{matrix}$\n",
        "\n",
        "   <br>\n",
        "\n",
        "  ### $ \\quad \\begin{matrix} \\frac{\\partial x}{\\partial a} &=& 1 \\ + \\ a \\ \\frac{\\partial b}{\\partial a} \\\\\n",
        "  &=& 1 \\end{matrix} $\n",
        "  ### $ \\quad \\begin{matrix} \\frac{\\partial y}{\\partial c} &=& \\frac{\\partial b}{\\partial c}\\ + 1 \\\\\n",
        "   &=& 1 \\end{matrix} $\n",
        "  \n",
        "  <br>\n",
        "\n",
        "  ### $ \\quad \\begin{matrix} \\frac{\\partial f}{\\partial a} &=& \\frac{\\partial f}{\\partial x} \\times \\frac{\\partial x}{\\partial a} \\\\\n",
        "  &=& y \\times 1 \\\\ \n",
        "  &=& 7 \\times 1 = 7 \\\\\n",
        "  &=& 7  \\end{matrix} $\n",
        "    \n",
        "  ### $ \\quad \\begin{matrix} \\frac{\\partial f}{\\partial b}\\ \n",
        "  &=& \\frac{\\partial x}{\\partial b} \\ y \\ + \\ x \\ \\frac{\\partial y}{\\partial b}  \\\\\n",
        "  &=& 1 \\times 7 + 2 \\times 1  \\\\\n",
        "  &=& 9 \\end{matrix} $\n",
        "  \n",
        "\n",
        "  \n",
        "  "
      ]
    },
    {
      "cell_type": "markdown",
      "metadata": {
        "id": "2PgmdJN0Qtdw"
      },
      "source": [
        "### 덧셈, 곱셈 계층의 역전파\n",
        "- 위 예제를 통해 아래 사항을 알 수 있음\n",
        "\n",
        "  #### 1. $\\quad z = x + y$ 일 때,\n",
        "  ## $\\frac{\\partial z}{\\partial x} = 1, \\frac{\\partial z}{\\partial y} = 1 $\n",
        "\n",
        "  #### 2. $\\quad t = xy$ 일 때,\n",
        "  ## $\\frac{\\partial t}{\\partial x} = y, \\frac{\\partial t}{\\partial y} = x$\n"
      ]
    },
    {
      "cell_type": "code",
      "metadata": {
        "id": "hShSxvW5WMqi"
      },
      "source": [
        "class Mul():\n",
        "  def __init__(self):\n",
        "    self.x = None\n",
        "    self.y = None\n",
        "\n",
        "  def forward(self, x, y):\n",
        "    self.x = x\n",
        "    self.y = y\n",
        "    result = x * y\n",
        "    return result\n",
        "\n",
        "  def backward(self, dresult):\n",
        "    dx = dresult * self.y\n",
        "    dy = dresult * self.x\n",
        "    return dx, dy"
      ],
      "execution_count": null,
      "outputs": []
    },
    {
      "cell_type": "code",
      "metadata": {
        "id": "1bovOx6UQvLP"
      },
      "source": [
        "class Add():\n",
        "  def __init__(self):\n",
        "    self.x = None\n",
        "    self.y = None\n",
        "    \n",
        "  def forward(self, x ,y):\n",
        "    self.x = x\n",
        "    self.y = y\n",
        "    result = x + y\n",
        "    return result\n",
        "\n",
        "  def backward(self, dresult):\n",
        "    dx = dresult * 1\n",
        "    dy = dresult * 1\n",
        "    return dx, dy"
      ],
      "execution_count": null,
      "outputs": []
    },
    {
      "cell_type": "code",
      "metadata": {
        "id": "e3RawqlUQwp0"
      },
      "source": [
        "a, b, c = -1, 3, 4\n",
        "x = Add()\n",
        "y = Add()\n",
        "f = Mul()"
      ],
      "execution_count": null,
      "outputs": []
    },
    {
      "cell_type": "code",
      "metadata": {
        "colab": {
          "base_uri": "https://localhost:8080/"
        },
        "id": "ZD7LNb3TCwkE",
        "outputId": "19489f0e-360d-426a-cf8d-2b4df0c963b6"
      },
      "source": [
        "print(x.forward(a,b))"
      ],
      "execution_count": null,
      "outputs": [
        {
          "output_type": "stream",
          "name": "stdout",
          "text": [
            "2\n"
          ]
        }
      ]
    },
    {
      "cell_type": "code",
      "metadata": {
        "id": "soyk-HWiSnwh",
        "colab": {
          "base_uri": "https://localhost:8080/"
        },
        "outputId": "64aded63-eec0-4073-cbfc-eec067b3a720"
      },
      "source": [
        "x_result = x.forward(a,b)\n",
        "y_result = y.forward(b,c)\n",
        "\n",
        "print(x_result)\n",
        "print(y_result)\n",
        "print(f.forward(x_result, y_result))"
      ],
      "execution_count": null,
      "outputs": [
        {
          "output_type": "stream",
          "name": "stdout",
          "text": [
            "2\n",
            "7\n",
            "14\n"
          ]
        }
      ]
    },
    {
      "cell_type": "code",
      "metadata": {
        "id": "FhPPrFIqSpq1",
        "colab": {
          "base_uri": "https://localhost:8080/"
        },
        "outputId": "6c8414c4-6268-4864-ea83-ab261031f67b"
      },
      "source": [
        "dresult = 1\n",
        "dx_mul, dy_mul = f.backward(dresult)\n",
        "\n",
        "da_add, db_add_1 = x.backward(dx_mul)\n",
        "db_add_2, dc_add = y.backward(dy_mul)\n",
        "\n",
        "print(dx_mul, dy_mul)\n",
        "print(da_add)\n",
        "print(db_add_1 + db_add_2)\n",
        "print(dc_add)"
      ],
      "execution_count": null,
      "outputs": [
        {
          "output_type": "stream",
          "name": "stdout",
          "text": [
            "7 2\n",
            "7\n",
            "9\n",
            "2\n"
          ]
        }
      ]
    },
    {
      "cell_type": "markdown",
      "metadata": {
        "id": "dMfl0J1uWgiY"
      },
      "source": [
        "![](https://miro.medium.com/max/2000/1*U3mVDYuvnaLhJzIFw_d5qQ.png)\n",
        "<sub>출처: https://medium.com/spidernitt/breaking-down-neural-networks-an-intuitive-approach-to-backpropagation-3b2ff958794c</sub>"
      ]
    },
    {
      "cell_type": "markdown",
      "metadata": {
        "id": "byODNRUF5fbv"
      },
      "source": [
        "### 활성화 함수(Activation)에서의 역전파"
      ]
    },
    {
      "cell_type": "markdown",
      "metadata": {
        "id": "OkRurUgm5hqn"
      },
      "source": [
        "#### 시그모이드(Sigmoid) 함수\n",
        "\n",
        "![](https://media.geeksforgeeks.org/wp-content/uploads/20190911181329/Screenshot-2019-09-11-18.05.46.png)\n",
        "\n",
        "<sub>출처: https://www.geeksforgeeks.org/implement-sigmoid-function-using-numpy/</sub>\n",
        "\n",
        "- 수식 \n",
        "  # $\\quad y = \\frac{1}{1 + e^{-x}} $일 때,\n",
        "\n",
        "  ## $\\quad \\begin{matrix}y' &=& (\\frac{1}{1 + e^{-x}})' \\\\\n",
        "  &=& \\frac{-1}{(1 + e^{-x})^2}\\ \\times \\ (-e^{-x}) \\\\\n",
        "  &=& \\frac{1}{1 + e^{-x}} \\ \\times \\ \\frac{e^{-x}}{1 + e^{-x}} \\\\\n",
        "  &=& \\frac{1}{1 + e^{-x}} \\ \\times \\ (1 - \\frac{1}{1 + e^{-x}}) \\\\\n",
        "  &=& y\\ (1\\ - \\ y)\n",
        "  \\end{matrix}$"
      ]
    },
    {
      "cell_type": "code",
      "metadata": {
        "id": "DNWIw7ElVhLK"
      },
      "source": [
        "class Sigmoid():\n",
        "  def __init__(self):\n",
        "    self.out = None\n",
        "  \n",
        "  def forward(self, x):\n",
        "    out = i / (1 + np.exp(-x))\n",
        "    return out\n",
        "\n",
        "  def backward(self, dout):\n",
        "    dx = dout * (1.0 - self.out) *self.dout \n",
        "    return dx"
      ],
      "execution_count": null,
      "outputs": []
    },
    {
      "cell_type": "markdown",
      "metadata": {
        "id": "QWZ247xo5mtv"
      },
      "source": [
        "#### ReLU 함수\n",
        "\n",
        "![](https://3qeqpr26caki16dnhd19sv6by6v-wpengine.netdna-ssl.com/wp-content/uploads/2018/10/Line-Plot-of-Rectified-Linear-Activation-for-Negative-and-Positive-Inputs.png)\n",
        "\n",
        "<sub>출처: https://machinelearningmastery.com/rectified-linear-activation-function-for-deep-learning-neural-networks/</sub>\n",
        "\n",
        "\n",
        "- 수식  \n",
        "\n",
        "  ### $\\qquad y=\n",
        "  \\begin{cases}\n",
        "  x & (x \\ge 0)  \\\\\n",
        "  0 & (x < 0)\n",
        "  \\end{cases}$ 일 때,\n",
        "\n",
        "  <br>\n",
        "\n",
        "  ### $\\qquad \\frac{\\partial y}{\\partial x}=\n",
        "  \\begin{cases}\n",
        "  1 & (x \\ge 0)  \\\\\n",
        "  0 & (x < 0)\n",
        "  \\end{cases}$"
      ]
    },
    {
      "cell_type": "code",
      "metadata": {
        "id": "hHcPmAzh5nOZ"
      },
      "source": [
        "class ReLU():\n",
        "  def __init__(self):\n",
        "    self.out = None\n",
        "    self.mask = None\n",
        "  \n",
        "  def forward(self, x):\n",
        "    self.mask = (x < 0)\n",
        "    out = x.copy()\n",
        "    out[self.mask] = 0\n",
        "    return out\n",
        "\n",
        "  def backward(self, dout):\n",
        "    dout[self.mask] = 0\n",
        "    dx = dout\n",
        "    return dx\n"
      ],
      "execution_count": null,
      "outputs": []
    },
    {
      "cell_type": "markdown",
      "metadata": {
        "id": "MH_kQzedJFfw"
      },
      "source": [
        "### 행렬 연산에 대한 역전파\n",
        "\n",
        "# $\\qquad Y = X \\bullet W + B$"
      ]
    },
    {
      "cell_type": "markdown",
      "metadata": {
        "id": "W-SedVrpJILw"
      },
      "source": [
        "#### 순전파(forward)\n",
        "  \n",
        "  - 형상(shape)을 맞춰줘야함\n",
        "  - 앞서 봤던 곱셈, 덧셈 계층을 합친 형태"
      ]
    },
    {
      "cell_type": "code",
      "metadata": {
        "id": "QKIO7EzSJGD1",
        "colab": {
          "base_uri": "https://localhost:8080/"
        },
        "outputId": "d929dc21-f16c-4e87-86c8-687456a05186"
      },
      "source": [
        "import numpy as np\n",
        "X = np.random.rand(3)\n",
        "W = np.random.rand(3,2)\n",
        "B = np.random.rand(2)\n",
        "\n",
        "print(X.shape)\n",
        "print(W.shape)\n",
        "print(B.shape)"
      ],
      "execution_count": null,
      "outputs": [
        {
          "output_type": "stream",
          "name": "stdout",
          "text": [
            "(3,)\n",
            "(3, 2)\n",
            "(2,)\n"
          ]
        }
      ]
    },
    {
      "cell_type": "code",
      "metadata": {
        "id": "Tqvl76fFJNfU",
        "colab": {
          "base_uri": "https://localhost:8080/"
        },
        "outputId": "f04e4338-9463-4877-efcd-e50ec792153c"
      },
      "source": [
        "np.dot(X, W) +B"
      ],
      "execution_count": null,
      "outputs": [
        {
          "output_type": "execute_result",
          "data": {
            "text/plain": [
              "array([1.94388007, 1.18693711])"
            ]
          },
          "metadata": {},
          "execution_count": 25
        }
      ]
    },
    {
      "cell_type": "code",
      "metadata": {
        "id": "QnB0hE6YJQuD"
      },
      "source": [
        ""
      ],
      "execution_count": null,
      "outputs": []
    },
    {
      "cell_type": "markdown",
      "metadata": {
        "id": "04GHZHAiJUGl"
      },
      "source": [
        "#### 역전파(1)\n",
        "\n",
        "##  $\\  Y = X \\bullet W$\n",
        "- $X :\\ \\ (2,\\ )$\n",
        "\n",
        "- $W :\\ \\ (2,\\ 3)$\n",
        "\n",
        "- $X \\bullet W :\\ \\ (3,\\ )$\n",
        "\n",
        "- $\\frac{\\partial L}{\\partial Y} :\\ \\ (3,\\ )$\n",
        "\n",
        "- $\\frac{\\partial L}{\\partial X} = \\frac{\\partial L}{\\partial Y}\\bullet W^T ,\\ (2,\\ )$\n",
        "\n",
        "- $\\frac{\\partial L}{\\partial W} = X^T \\bullet \\frac{\\partial L}{\\partial Y} ,\\ (2,\\ 3)$\n",
        "\n"
      ]
    },
    {
      "cell_type": "code",
      "metadata": {
        "id": "DCruMHCGJSHK",
        "colab": {
          "base_uri": "https://localhost:8080/"
        },
        "outputId": "8f639819-5e83-477a-cac3-9ae97e9211d5"
      },
      "source": [
        "X = np.random.rand(2)\n",
        "W = np.random.rand(2,3)\n",
        "Y = np.dot(X,W)\n",
        "\n",
        "print('X\\n{}'.format(X))\n",
        "print('W\\n{}'.format(W))\n",
        "print('Y\\n{}'.format(Y))"
      ],
      "execution_count": null,
      "outputs": [
        {
          "output_type": "stream",
          "name": "stdout",
          "text": [
            "X\n",
            "[0.07743854 0.61235221]\n",
            "W\n",
            "[[0.47633116 0.69599885 0.03937072]\n",
            " [0.84456968 0.04789921 0.57362396]]\n",
            "Y\n",
            "[0.5540605  0.08322832 0.35430871]\n"
          ]
        }
      ]
    },
    {
      "cell_type": "code",
      "metadata": {
        "id": "TEvyFXedJWC7",
        "colab": {
          "base_uri": "https://localhost:8080/"
        },
        "outputId": "2675e25a-737c-40e7-f677-dc40cc80232e"
      },
      "source": [
        "dL_dY = np.random.randn(3)\n",
        "dL_dX = np.dot(dL_dY, W.T)\n",
        "dL_dW = np.dot(X.reshape(-1,1), dL_dY.reshape(1,-1))\n",
        "\n",
        "print('dL_dY\\n{}'.format(dL_dY))\n",
        "print('dL_dX\\n{}'.format(dL_dX))\n",
        "print('dL_dW\\n{}'.format(dL_dW))"
      ],
      "execution_count": null,
      "outputs": [
        {
          "output_type": "stream",
          "name": "stdout",
          "text": [
            "dL_dY\n",
            "[-0.59015197  0.28139719  0.63082769]\n",
            "dL_dX\n",
            "[-0.06041952 -0.12308788]\n",
            "dL_dW\n",
            "[[-0.04570051  0.02179099  0.04885038]\n",
            " [-0.36138086  0.17231419  0.38628873]]\n"
          ]
        }
      ]
    },
    {
      "cell_type": "markdown",
      "metadata": {
        "id": "uuOVqySWJauS"
      },
      "source": [
        "#### 역전파(2)\n",
        "\n",
        "## $\\ (2)\\  Y = X \\bullet W + B$\n",
        "- $X, W$는 위와 동일\n",
        "\n",
        "- $B: \\ (3, )$\n",
        "\n",
        "- $\\frac{\\partial L}{\\partial B} = \\frac{\\partial L}{\\partial Y}, \\ (3,\\ )$"
      ]
    },
    {
      "cell_type": "code",
      "metadata": {
        "id": "D_Jb9sY8JYGB",
        "colab": {
          "base_uri": "https://localhost:8080/"
        },
        "outputId": "dab04676-d106-44f2-f0bd-1a2f9b50c5ff"
      },
      "source": [
        "X = np.random.randn(2)\n",
        "W = np.random.randn(2,3)\n",
        "B = np.random.randn(3)\n",
        "Y = np.dot(X,W) + B\n",
        "print(Y)"
      ],
      "execution_count": null,
      "outputs": [
        {
          "output_type": "stream",
          "name": "stdout",
          "text": [
            "[-0.10434479 -2.44847444 -1.87728853]\n"
          ]
        }
      ]
    },
    {
      "cell_type": "code",
      "metadata": {
        "id": "frdvKz8oJcoZ",
        "colab": {
          "base_uri": "https://localhost:8080/"
        },
        "outputId": "9235441d-d52b-40a3-f47c-246ce569d2d5"
      },
      "source": [
        "dL_dY = np.random.randn(3)\n",
        "dL_dX = np.dot(dL_dY, W.T)\n",
        "dL_dW = np.dot(X.reshape(-1,1), dL_dY.reshape(1,-1))\n",
        "dL_dB = dL_dY\n",
        "\n",
        "print('dL_dY\\n{}'.format(dL_dY))\n",
        "print('dL_dX\\n{}'.format(dL_dX))\n",
        "print('dL_dW\\n{}'.format(dL_dW))\n",
        "print('dL_dB\\n{}'.format(dL_dB))"
      ],
      "execution_count": null,
      "outputs": [
        {
          "output_type": "stream",
          "name": "stdout",
          "text": [
            "dL_dY\n",
            "[ 0.5759804  -0.72539723  1.4185403 ]\n",
            "dL_dX\n",
            "[-0.4118939  -0.23420488]\n",
            "dL_dW\n",
            "[[ 0.37815749 -0.47625648  0.93133662]\n",
            " [ 0.54166451 -0.68217934  1.33402618]]\n",
            "dL_dB\n",
            "[ 0.5759804  -0.72539723  1.4185403 ]\n"
          ]
        }
      ]
    },
    {
      "cell_type": "markdown",
      "metadata": {
        "id": "0FrBSUsRJgFl"
      },
      "source": [
        "#### 배치용 행렬 내적 계층\n",
        "- N개의 데이터에 대해,  \n",
        "# $\\qquad Y = X \\bullet W + B$\n",
        "\n",
        "  - $X : \\quad  (N,\\ 3)$\n",
        "\n",
        "  - $W : \\quad  (3,\\ 2)$\n",
        "\n",
        "  - $B : \\quad  (2,\\ )$\n",
        "  "
      ]
    },
    {
      "cell_type": "code",
      "metadata": {
        "id": "AoWx5fDnJd-2",
        "colab": {
          "base_uri": "https://localhost:8080/"
        },
        "outputId": "436298bc-9079-4736-e4c1-0d65cf8fa3f1"
      },
      "source": [
        "X = np.random.rand(4, 3)\n",
        "W = np.random.rand(3, 2)\n",
        "B = np.random.rand(2)\n",
        "\n",
        "print(X.shape)\n",
        "print(W.shape)\n",
        "print(B.shape)"
      ],
      "execution_count": null,
      "outputs": [
        {
          "output_type": "stream",
          "name": "stdout",
          "text": [
            "(4, 3)\n",
            "(3, 2)\n",
            "(2,)\n"
          ]
        }
      ]
    },
    {
      "cell_type": "code",
      "metadata": {
        "id": "EqhSX54BJmPQ",
        "colab": {
          "base_uri": "https://localhost:8080/"
        },
        "outputId": "e4f8f1f5-f8d8-4499-a4bf-e9be3b488941"
      },
      "source": [
        "print('X\\n{}'.format(X))\n",
        "print('W\\n{}'.format(W))\n",
        "print('B\\n{}'.format(B))\n"
      ],
      "execution_count": null,
      "outputs": [
        {
          "output_type": "stream",
          "name": "stdout",
          "text": [
            "X\n",
            "[[0.38105578 0.75413003 0.88696486]\n",
            " [0.28362903 0.68777347 0.34882108]\n",
            " [0.13664959 0.46519404 0.26168313]\n",
            " [0.64815888 0.28331469 0.62334331]]\n",
            "W\n",
            "[[0.1114835  0.5274273 ]\n",
            " [0.4981793  0.8772859 ]\n",
            " [0.34346401 0.64832502]]\n",
            "B\n",
            "[0.46880686 0.25151957]\n"
          ]
        }
      ]
    },
    {
      "cell_type": "code",
      "metadata": {
        "id": "_1IOOfhuJqF-",
        "colab": {
          "base_uri": "https://localhost:8080/"
        },
        "outputId": "53cfc67a-f985-40bd-d466-e380b8ab7fa3"
      },
      "source": [
        "Y = np.dot(X,W) + B\n",
        "\n",
        "print(\"Y\\n{}\".format(Y))\n",
        "print('Y shape: ', Y.shape)"
      ],
      "execution_count": null,
      "outputs": [
        {
          "output_type": "stream",
          "name": "stdout",
          "text": [
            "Y\n",
            "[[1.19162077 1.68912796]\n",
            " [0.96286881 1.23063668]\n",
            " [0.80566981 0.90135619]\n",
            " [0.89630338 1.24605331]]\n",
            "Y shape:  (4, 2)\n"
          ]
        }
      ]
    },
    {
      "cell_type": "code",
      "metadata": {
        "id": "TOKsN2NHJrqT",
        "colab": {
          "base_uri": "https://localhost:8080/"
        },
        "outputId": "16e93d33-7f0f-4b22-c741-57be8336618e"
      },
      "source": [
        "dL_dY = np.random.randn(4,2)\n",
        "dL_dX = np.dot(dL_dY, W.T)  #4 2 2 3\n",
        "dL_dW = np.dot(X.T, dL_dY) # 3 4 4 2\n",
        "dL_dB = np.sum(dL_dY, axis = 0)\n",
        "\n",
        "print('dL_dY\\n{}'.format(dL_dY))\n",
        "print('dL_dX\\n{}'.format(dL_dX))\n",
        "print('dL_dW\\n{}'.format(dL_dW))\n",
        "print('dL_dB\\n{}'.format(dL_dB))"
      ],
      "execution_count": null,
      "outputs": [
        {
          "output_type": "stream",
          "name": "stdout",
          "text": [
            "dL_dY\n",
            "[[ 2.14928386  0.17593253]\n",
            " [ 1.1268687   0.2956819 ]\n",
            " [-1.27397614 -0.70908816]\n",
            " [-0.4371868  -0.21225715]]\n",
            "dL_dX\n",
            "[[ 0.33240131  1.22507186  0.8522631 ]\n",
            " [ 0.28157798  0.82078023  0.57873681]\n",
            " [-0.51601978 -1.25674159 -0.89728455]\n",
            " [-0.16068933 -0.40400762 -0.28776955]]\n",
            "dL_dW\n",
            "[[ 0.68115489 -0.08356889]\n",
            " [ 1.67936236 -0.05396099]\n",
            " [ 1.69351928 -0.05867944]]\n",
            "dL_dB\n",
            "[ 1.56498962 -0.44973089]\n"
          ]
        }
      ]
    },
    {
      "cell_type": "code",
      "metadata": {
        "id": "YjIYrXGaJtEz"
      },
      "source": [
        "class Layer():\n",
        "\n",
        "  def __init__(self):\n",
        "    self.W = np.random.randn(3,2)\n",
        "    self.b = np.random.randn(2)\n",
        "    self.x = None\n",
        "    self.dW = None\n",
        "    self.db = None\n",
        "\n",
        "  def forward(self, x):\n",
        "    self.x = x\n",
        "    out = np.dot(x, self.W) + self.b\n",
        "    return out\n",
        "\n",
        "  def backward(self, dout):\n",
        "    dx = np.dot(dout,self.W.T)\n",
        "    self.dW = np.dot(self.x.T, dout)\n",
        "    self.db = np.sum(dout, axis = 0)\n",
        "    return dx"
      ],
      "execution_count": null,
      "outputs": []
    },
    {
      "cell_type": "code",
      "metadata": {
        "id": "twG43EylJvC-"
      },
      "source": [
        "np.random.seed(111)\n",
        "\n",
        "layer = Layer()"
      ],
      "execution_count": null,
      "outputs": []
    },
    {
      "cell_type": "code",
      "metadata": {
        "id": "CrCDxHw5Jw3S",
        "colab": {
          "base_uri": "https://localhost:8080/"
        },
        "outputId": "07ace33e-f2db-4430-b113-97e5c619b803"
      },
      "source": [
        "X = np.random.rand(2,3)\n",
        "Y = layer.forward(X)\n",
        "print(X)\n",
        "print(Y)\n"
      ],
      "execution_count": null,
      "outputs": [
        {
          "output_type": "stream",
          "name": "stdout",
          "text": [
            "[[0.62124292 0.27425353 0.46622141]\n",
            " [0.11836775 0.07395756 0.90077418]]\n",
            "[[-0.72028765 -0.42708303]\n",
            " [-0.79208707 -0.74881642]]\n"
          ]
        }
      ]
    },
    {
      "cell_type": "code",
      "metadata": {
        "id": "boKm8OIgJyJy",
        "colab": {
          "base_uri": "https://localhost:8080/"
        },
        "outputId": "99185905-e9a4-4c57-f7dc-1f6ac635ad79"
      },
      "source": [
        "dout = np.random.rand(2,2)\n",
        "dout_dx = layer.backward(dout)\n",
        "print(dout_dx)"
      ],
      "execution_count": null,
      "outputs": [
        {
          "output_type": "stream",
          "name": "stdout",
          "text": [
            "[[-0.57717814  0.8894841  -1.01146255]\n",
            " [-0.5434705   0.86783399 -1.09728643]]\n"
          ]
        }
      ]
    },
    {
      "cell_type": "markdown",
      "metadata": {
        "id": "Bz-0zFPpJ3Jz"
      },
      "source": [
        "### MNIST 분류 with 역전파\n"
      ]
    },
    {
      "cell_type": "markdown",
      "metadata": {
        "id": "eW3InPxBJ6qo"
      },
      "source": [
        "#### Modules Import"
      ]
    },
    {
      "cell_type": "code",
      "metadata": {
        "id": "ZKtAhkm4J2Z3"
      },
      "source": [
        "import tensorflow as tf\n",
        "import matplotlib.pyplot as plt\n",
        "plt.style.use('seaborn-whitegrid')\n",
        "from collections import OrderedDict"
      ],
      "execution_count": null,
      "outputs": []
    },
    {
      "cell_type": "markdown",
      "metadata": {
        "id": "F1_2_jGMKGiT"
      },
      "source": [
        "#### 데이터 로드"
      ]
    },
    {
      "cell_type": "code",
      "metadata": {
        "id": "S3SQq80sJ8mR"
      },
      "source": [
        "np.random.seed(42)\n",
        "\n",
        "mnist = tf.keras.datasets.mnist\n",
        "\n",
        "(X_train, y_train), (X_test, y_test) = mnist.load_data()"
      ],
      "execution_count": null,
      "outputs": []
    },
    {
      "cell_type": "code",
      "metadata": {
        "id": "mkSwkpBazVBi"
      },
      "source": [
        "num_classes = 10"
      ],
      "execution_count": null,
      "outputs": []
    },
    {
      "cell_type": "markdown",
      "metadata": {
        "id": "mv_pjKdxKKIy"
      },
      "source": [
        "#### 데이터 전처리"
      ]
    },
    {
      "cell_type": "code",
      "metadata": {
        "id": "B95lI86tKIyY"
      },
      "source": [
        "X_train, X_test = X_train.reshape(-1, 28 * 28).astype(np.float32), X_test.reshape(-1, 28 * 28).astype(np.float32)"
      ],
      "execution_count": null,
      "outputs": []
    },
    {
      "cell_type": "code",
      "metadata": {
        "id": "ar7DZIlMKLjJ"
      },
      "source": [
        "X_train /= .255\n",
        "X_test /= .255\n",
        "\n",
        "y_train = np.eye(num_classes)[y_train]"
      ],
      "execution_count": null,
      "outputs": []
    },
    {
      "cell_type": "code",
      "metadata": {
        "colab": {
          "base_uri": "https://localhost:8080/"
        },
        "id": "hU456WHDz_oc",
        "outputId": "7f7666f5-8ff2-4f01-f407-171840c249ea"
      },
      "source": [
        "print(X_train.shape)\n",
        "print(y_train.shape)\n",
        "print(X_test.shape)\n",
        "print(y_test.shape)"
      ],
      "execution_count": null,
      "outputs": [
        {
          "output_type": "stream",
          "name": "stdout",
          "text": [
            "(60000, 784)\n",
            "(60000, 10)\n",
            "(10000, 784)\n",
            "(10000,)\n"
          ]
        }
      ]
    },
    {
      "cell_type": "markdown",
      "metadata": {
        "id": "Oye4pC82KPbg"
      },
      "source": [
        "#### Hyper Parameters"
      ]
    },
    {
      "cell_type": "code",
      "metadata": {
        "id": "rFeXORJjKM7s"
      },
      "source": [
        "epochs = 1000\n",
        "learning_rate = 1e-3\n",
        "batch_size = 100\n",
        "train_size = X_train.shape[0]"
      ],
      "execution_count": null,
      "outputs": []
    },
    {
      "cell_type": "markdown",
      "metadata": {
        "id": "cIdzuyRDKSm0"
      },
      "source": [
        "#### Util Functions"
      ]
    },
    {
      "cell_type": "code",
      "metadata": {
        "id": "8E2_fN1dKRzv"
      },
      "source": [
        "def softmax(x):\n",
        "  if x.ndim == 2:\n",
        "    x = x.T\n",
        "    x = x - np.max(x , axis = 0)\n",
        "    y = np.exp(x) / np.sum(np.exp(x), axis = 0)\n",
        "    return y.T\n",
        "\n",
        "  x = x - np.max(x)\n",
        "  return np.exp(x) / np.sum(np.exp(x))\n",
        "\n",
        "def mean_squared_error(pred_y, true_y):\n",
        "  return 0.5 * np.sum((pred_y - true_y) ** 2)\n",
        "\n",
        "def cross_entropy_error(pred_y, true_y):\n",
        "  if pred_y.ndim == 1:\n",
        "    true_y = true_y.reshape(1, true_y.size)\n",
        "    pred_y = pred_y.reshape(1, pred_y.size)\n",
        "\n",
        "  if true_y.size == pred_y.size:\n",
        "    true_y = true_y.argmax(axis = 1)\n",
        "\n",
        "  batch_size = pred_y.shape[0]\n",
        "  return -np.sum(np.log(pred_y[np.arange(batch_size), true_y] + 1e-7)) / batch_size\n",
        "\n",
        "def softmax_loss(X, true_y):\n",
        "  pred_y = softmax(X)\n",
        "  return cross_entropy_error(pred_y, true_y)"
      ],
      "execution_count": null,
      "outputs": []
    },
    {
      "cell_type": "markdown",
      "metadata": {
        "id": "SBvWUNh-KY2R"
      },
      "source": [
        "#### Util Classes"
      ]
    },
    {
      "cell_type": "markdown",
      "metadata": {
        "id": "rc0sLXWJs8Dq"
      },
      "source": [
        "##### ReLU"
      ]
    },
    {
      "cell_type": "code",
      "metadata": {
        "id": "ej2m6Robs-uJ"
      },
      "source": [
        "class ReLU():\n",
        "  def __init__(self):\n",
        "    self.out = None\n",
        "  \n",
        "  def forward(self, x):\n",
        "    self.mask = ( x < 0)\n",
        "    out = x.copy()\n",
        "    out[x<0] = 0\n",
        "    return out\n",
        "\n",
        "  def backward(self, dout):\n",
        "    dout[self.mask] = 0\n",
        "    dx = dout\n",
        "    return dx"
      ],
      "execution_count": null,
      "outputs": []
    },
    {
      "cell_type": "markdown",
      "metadata": {
        "id": "RucLfG0EtYcf"
      },
      "source": [
        "##### Sigmoid"
      ]
    },
    {
      "cell_type": "code",
      "metadata": {
        "id": "TWoPmtpNtZ__"
      },
      "source": [
        "class Sigmoid():\n",
        "  def __init__(self):\n",
        "    self.out = None\n",
        "  \n",
        "  def forward(self, x):\n",
        "    out = 1 / (1 + np.exp(-x))\n",
        "    return out\n",
        "\n",
        "  def backward(self, dout):\n",
        "    dx = dout * (1.0 - self.out) * self.dout\n",
        "    return dx"
      ],
      "execution_count": null,
      "outputs": []
    },
    {
      "cell_type": "markdown",
      "metadata": {
        "id": "IZZeNtd-tuM5"
      },
      "source": [
        "##### Layer"
      ]
    },
    {
      "cell_type": "code",
      "metadata": {
        "id": "NEcCZ4bFtzgq"
      },
      "source": [
        "class Layer():\n",
        "  def __init__(self, W, b):\n",
        "    self.W = W\n",
        "    self.b = b\n",
        "\n",
        "    self.x = None\n",
        "    self.origin_x_shape = None\n",
        "    self.dL_dW = None\n",
        "    self.dL_db = None\n",
        "\n",
        "  def forward(self, x):\n",
        "    self.origin_x_shape = x.shape\n",
        "    x = x.reshape(x.shape[0], -1)\n",
        "    self.x = x\n",
        "    out = np.dot(self.x, self.W) + self.b\n",
        "\n",
        "    return out\n",
        "\n",
        "  def backward(self,dout):\n",
        "    dx = np.dot(dout, self.W.T)\n",
        "    self.dL_dW = np.dot(self.x.T, dout)\n",
        "    self.dL_db = np.sum(dout, axis = 0)\n",
        "    dx = dx.reshape(*self.origin_x_shape)\n",
        "    return dx"
      ],
      "execution_count": null,
      "outputs": []
    },
    {
      "cell_type": "markdown",
      "metadata": {
        "id": "s1Yqp7kVvOoD"
      },
      "source": [
        "#### Softmax"
      ]
    },
    {
      "cell_type": "code",
      "metadata": {
        "id": "0RXBVEMdvP9r"
      },
      "source": [
        "class Softmax ():\n",
        "\n",
        "  def __init__(self):\n",
        "    self.loss = None\n",
        "    self.y = None\n",
        "    self.t = None\n",
        "\n",
        "  def forward(self, x, t):\n",
        "    self.t = t\n",
        "    self.y = softmax(x)\n",
        "    self.loss = cross_entropy_error(self.y, self.t)\n",
        "\n",
        "    return self.loss\n",
        "\n",
        "  def backward(self, dout = 1):\n",
        "    batch_size = self.t.shape[0]\n",
        "    if self.t.size == self.y.size:\n",
        "      dx = (self.y - self.t) / batch_size\n",
        "    else:\n",
        "      dx = self.y.copu()\n",
        "      dx[np.arange(batch_size), self.t] -= 1\n",
        "      dx = dx / batch_size\n",
        "\n",
        "    return dx"
      ],
      "execution_count": null,
      "outputs": []
    },
    {
      "cell_type": "code",
      "metadata": {
        "id": "sX4I-bKfuRaq"
      },
      "source": [
        "class MyModel():\n",
        "\n",
        "  def __init__(self, input_size, hidden_size_list, output_size, activation = 'relu'):\n",
        "    self.input_size = input_size\n",
        "    self.output_size = output_size\n",
        "    self.hidden_size_list = hidden_size_list\n",
        "    self.hidden_layer_num = len(hidden_size_list)\n",
        "    self.params = {}\n",
        "\n",
        "    self.__init_weights(activation)\n",
        "\n",
        "    activation_layer = {'sigmoid':Sigmoid, 'relu':ReLU}\n",
        "    self.layers = OrderedDict()\n",
        "\n",
        "    for idx in range(1, self.hidden_layer_num + 1):\n",
        "      self.layers['Layer' + str(idx)] = Layer(self.params['W' + str(idx)], self.params['b' + str(idx)])\n",
        "      self.layers['Activation_function' + str(idx)] = activation_layer[activation]()\n",
        "\n",
        "    idx = self.hidden_layer_num + 1\n",
        "    self.layers['Layer' + str(idx)] = Layer(self.params['W' + str(idx)], self.params['b'+ str(idx)])\n",
        "    self.last_layer = Softmax()\n",
        "\n",
        "  def __init_weights(self, activation):\n",
        "    weight_std = None\n",
        "    all_size_list = [self.input_size] + self.hidden_size_list + [self.output_size]\n",
        "    for idx in range(1, len(all_size_list)):\n",
        "      if activation.lower() == 'relu':\n",
        "        weight_std = np.sqrt(2.0 / self.input_size)\n",
        "      elif activation.lower() == 'sigmoid':\n",
        "        weight_std = np.sqrt(1.0 / self.input_size)\n",
        "\n",
        "      self.params['W' + str(idx)] = weight_std * np.random.randn(all_size_list[idx - 1 ], all_size_list[idx])\n",
        "      self.params['b' + str(idx)] = np.random.randn(all_size_list[idx])\n",
        "\n",
        "\n",
        "  def predict(self, x):\n",
        "    for layer in self.layers.values():\n",
        "      x = layer.forward(x)\n",
        "\n",
        "    return x\n",
        "\n",
        "  def loss(self, x, true_y):\n",
        "    pred_y = self.predict(x)\n",
        "\n",
        "    return self.last_layer.forward(pred_y, true_y)\n",
        "    \n",
        "  def accuracy(self, x, true_y):\n",
        "    pred_y = self.predict(x)\n",
        "    pred_y = np.argmax(pred_y, axis = 1)\n",
        "    if true_y.ndim != 1:\n",
        "      true_y = np.argmax(true_y , axis = 1)\n",
        "\n",
        "    accuracy = np.sum(pred_y == true_y) / float(x.shape[0])\n",
        "    return accuracy\n",
        "\n",
        "  def gradient(self, x, t):\n",
        "    self.loss(x,t)\n",
        "    dout = 1\n",
        "    dout = self.last_layer.backward(dout)\n",
        "    layers = list(self.layers.values())\n",
        "    layers.reverse()\n",
        "    for layer in layers:\n",
        "      dout = layer.backward(dout)\n",
        "\n",
        "    grads = {}\n",
        "    for idx in range(1, self.hidden_layer_num + 2):\n",
        "      grads['W' + str(idx)] = self.layers['Layer' + str(idx)].dL_dW\n",
        "      grads['b' + str(idx)] = self.layers['Layer' + str(idx)].dL_db\n",
        "      \n",
        "    return grads\n",
        "\n",
        "\n"
      ],
      "execution_count": null,
      "outputs": []
    },
    {
      "cell_type": "markdown",
      "metadata": {
        "id": "LwyNo3TsyDZR"
      },
      "source": [
        "#### 모델 생성 및 학습"
      ]
    },
    {
      "cell_type": "code",
      "metadata": {
        "id": "Du5naLufxMvv"
      },
      "source": [
        "model = MyModel(28 * 28, [100, 64, 32], 10, activation = 'relu')\n"
      ],
      "execution_count": null,
      "outputs": []
    },
    {
      "cell_type": "code",
      "metadata": {
        "id": "Rb0HhW9x0mrN"
      },
      "source": [
        "train_loss_list = []\n",
        "train_acc_list =[]\n",
        "test_acc_list = []"
      ],
      "execution_count": null,
      "outputs": []
    },
    {
      "cell_type": "code",
      "metadata": {
        "id": "VV5PciwAxM6s",
        "colab": {
          "base_uri": "https://localhost:8080/"
        },
        "outputId": "88b37a1b-1caf-409c-b306-b6b659c5eb6b"
      },
      "source": [
        "for epoch in range(epochs):\n",
        "  batch_mask = np.random.choice(train_size, batch_size)\n",
        "  x_batch = X_train[batch_mask]\n",
        "  y_batch = y_train[batch_mask]\n",
        "  grad = model.gradient(x_batch, y_batch)\n",
        "  for key in model.params.keys():\n",
        "    model.params[key] -= learning_rate *grad[key]\n",
        "\n",
        "\n",
        "\n",
        "  loss = model.loss(x_batch, y_batch)\n",
        "  train_loss_list.append(loss)\n",
        "\n",
        "  if epoch % 50 == 0:\n",
        "    train_acc =model.accuracy(X_train, y_train)\n",
        "    test_acc = model.accuracy(X_test, y_test)\n",
        "    train_acc_list.append(train_acc)\n",
        "    test_acc_list.append(test_acc)\n",
        "    print('Epoch: {}  Train Accuracy: {:.4f}  Test Accuracy: {:.4f}'.format(epoch + 1, train_acc, test_acc))"
      ],
      "execution_count": null,
      "outputs": [
        {
          "output_type": "stream",
          "name": "stdout",
          "text": [
            "Epoch: 1  Train Accuracy: 0.1554  Test Accuracy: 0.1624\n",
            "Epoch: 51  Train Accuracy: 0.5583  Test Accuracy: 0.5724\n",
            "Epoch: 101  Train Accuracy: 0.6619  Test Accuracy: 0.6695\n",
            "Epoch: 151  Train Accuracy: 0.7128  Test Accuracy: 0.7175\n",
            "Epoch: 201  Train Accuracy: 0.7525  Test Accuracy: 0.7581\n",
            "Epoch: 251  Train Accuracy: 0.7754  Test Accuracy: 0.7848\n",
            "Epoch: 301  Train Accuracy: 0.7896  Test Accuracy: 0.7950\n",
            "Epoch: 351  Train Accuracy: 0.8065  Test Accuracy: 0.8116\n",
            "Epoch: 401  Train Accuracy: 0.8170  Test Accuracy: 0.8232\n",
            "Epoch: 451  Train Accuracy: 0.8285  Test Accuracy: 0.8330\n",
            "Epoch: 501  Train Accuracy: 0.8365  Test Accuracy: 0.8405\n",
            "Epoch: 551  Train Accuracy: 0.8440  Test Accuracy: 0.8474\n",
            "Epoch: 601  Train Accuracy: 0.8544  Test Accuracy: 0.8590\n",
            "Epoch: 651  Train Accuracy: 0.8609  Test Accuracy: 0.8650\n",
            "Epoch: 701  Train Accuracy: 0.8662  Test Accuracy: 0.8705\n",
            "Epoch: 751  Train Accuracy: 0.8689  Test Accuracy: 0.8737\n",
            "Epoch: 801  Train Accuracy: 0.8732  Test Accuracy: 0.8759\n",
            "Epoch: 851  Train Accuracy: 0.8733  Test Accuracy: 0.8759\n",
            "Epoch: 901  Train Accuracy: 0.8770  Test Accuracy: 0.8795\n",
            "Epoch: 951  Train Accuracy: 0.8833  Test Accuracy: 0.8866\n"
          ]
        }
      ]
    },
    {
      "cell_type": "code",
      "metadata": {
        "colab": {
          "base_uri": "https://localhost:8080/"
        },
        "id": "fx1LYdijVRcW",
        "outputId": "377e43d5-766e-4983-e998-2d5c81c8089e"
      },
      "source": [
        "len(train_acc_list)"
      ],
      "execution_count": null,
      "outputs": [
        {
          "output_type": "execute_result",
          "data": {
            "text/plain": [
              "20"
            ]
          },
          "metadata": {},
          "execution_count": 112
        }
      ]
    },
    {
      "cell_type": "code",
      "metadata": {
        "id": "dqqlZOF6KjDl",
        "colab": {
          "base_uri": "https://localhost:8080/",
          "height": 291
        },
        "outputId": "3afe3ff7-c048-4c01-8772-0ce74fdd8035"
      },
      "source": [
        "plt.plot(np.arange(1000//50), train_acc_list, 'r--', label = 'train_acc')\n",
        "plt.plot(np.arange(1000//50), test_acc_list, 'b', label = 'test_acc')\n",
        "\n",
        "plt.title('Result')\n",
        "plt.xlabel('Epochs')\n",
        "plt.legend(loc = 5)\n",
        "plt.grid()\n",
        "plt.show()"
      ],
      "execution_count": null,
      "outputs": [
        {
          "output_type": "display_data",
          "data": {
            "image/png": "[encoded data removed]",
            "text/plain": [
              "<Figure size 432x288 with 1 Axes>"
            ]
          },
          "metadata": {}
        }
      ]
    },
    {
      "cell_type": "code",
      "metadata": {
        "id": "_BwHrt9nP8y8",
        "colab": {
          "base_uri": "https://localhost:8080/",
          "height": 291
        },
        "outputId": "53f35be3-0949-460b-f314-6463b42acf2a"
      },
      "source": [
        "plt.plot(np.arange(1000), train_loss_list, 'green', label = 'train_loss')\n",
        "plt.title('Train Loss')\n",
        "plt.xlabel('Epochs')\n",
        "plt.legend(loc = 5)\n",
        "plt.show()"
      ],
      "execution_count": null,
      "outputs": [
        {
          "output_type": "display_data",
          "data": {
            "image/png": "[encoded data removed]",
            "text/plain": [
              "<Figure size 432x288 with 1 Axes>"
            ]
          },
          "metadata": {}
        }
      ]
    },
    {
      "cell_type": "code",
      "metadata": {
        "id": "p9FFFisoWisM"
      },
      "source": [
        ""
      ],
      "execution_count": null,
      "outputs": []
    }
  ]
}