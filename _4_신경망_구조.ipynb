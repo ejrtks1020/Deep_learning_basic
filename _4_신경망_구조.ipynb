{
  "nbformat": 4,
  "nbformat_minor": 0,
  "metadata": {
    "colab": {
      "name": "_4 신경망 구조",
      "provenance": [],
      "collapsed_sections": [],
      "include_colab_link": true
    },
    "kernelspec": {
      "name": "python3",
      "display_name": "Python 3"
    }
  },
  "cells": [
    {
      "cell_type": "markdown",
      "metadata": {
        "id": "view-in-github",
        "colab_type": "text"
      },
      "source": [
        "<a href=\"https://colab.research.google.com/github/ejrtks1020/Deep_learning_basic/blob/main/_4_%EC%8B%A0%EA%B2%BD%EB%A7%9D_%EA%B5%AC%EC%A1%B0.ipynb\" target=\"_parent\"><img src=\"https://colab.research.google.com/assets/colab-badge.svg\" alt=\"Open In Colab\"/></a>"
      ]
    },
    {
      "cell_type": "markdown",
      "metadata": {
        "id": "SSVzmRVLJrwm"
      },
      "source": [
        "# 신경망 구조"
      ]
    },
    {
      "cell_type": "markdown",
      "metadata": {
        "id": "0F8W4x9kembv"
      },
      "source": [
        "## 퍼셉트론\n",
        "\n",
        "- 인공신경망의 한 종류\n",
        "- 다수의 입력($x_1, x_2, ..., x_n$)과 가중치($w_1, w_2, ..., w_n$)를 곱하여 그 값에 편향($bias$)을 더한 값이 어느 임계치 값($\\theta$)을 초과하면 활성화 함수를 통과한 출력값을 내보냄\n",
        "![perceptron](https://miro.medium.com/max/1400/1*ofVdu6L3BDbHyt1Ro8w07Q.png)\n",
        "<br /><sub>출처: https://towardsdatascience.com/rosenblatts-perceptron-the-very-first-neural-network-37a3ec09038a</sub>"
      ]
    },
    {
      "cell_type": "markdown",
      "metadata": {
        "id": "YxALA-qreoJ-"
      },
      "source": [
        "## 뉴런의 수학적 표현\n",
        "\n",
        "![](https://cs231n.github.io/assets/nn1/neuron_model.jpeg)\n",
        "<br /><sub>출처: https://cs231n.github.io/convolutional-networks/</sub>\n",
        "\n",
        "$\\qquad y = f(\\sum_{i} w_ix_i + b) \\quad $\n",
        "\n",
        "  - $f\\ $ : 활성화 함수\n",
        "    - 임계값($\\theta$)을 경계로 출력이 바뀜\n",
        "\n",
        "  - $b\\ \\ $ :  편향\n",
        "    - <u>결정 경계선을 원점에서부터 벗어나게 해줌</u>\n",
        "    - 따로 표현이 없어도 기본적으로 존재한다고 생각\n",
        "\n",
        "  - $\\sum_{i} w_ix_i$ :$\\quad $두 벡터의 내적으로 표현 가능\n",
        "     \n",
        "     $\\\\ \\quad x_1w_1 + x_2w_2 +\\ ... \\ + x_nw_n = w^Tx$"
      ]
    },
    {
      "cell_type": "markdown",
      "metadata": {
        "id": "sl6DMX9Yetsv"
      },
      "source": [
        "\n",
        "## 완전 연결 계층(Fully-Connected Layer) 수학적 표현\n",
        "\n",
        "![](https://miro.medium.com/max/620/1*ZBYO3waYUyPsLm0rb15sEQ.png)\n",
        "<br /><sub>출처: https://towardsdatascience.com/the-sparse-future-of-deep-learning-bce05e8e094a</sub>\n",
        "\n",
        "  $\\qquad  W = [w_0, w_1,\\ ..., \\ w_{M-1}]^T $  \n",
        "  $\\qquad $  각각의 $w_k$는 $N\\times 1$ 형태의 벡터  \n",
        "  $\\qquad W$는 $N \\times M$ 행렬\n",
        "\n",
        "  $ \\qquad b$ = $[b_0, b_1, \\ ..., \\ b_{M-1}]$  \n",
        "\n",
        "  $\\qquad y_0 = f(w_0^Tx + b_0)$  \n",
        "\n",
        "  $\\qquad y_1 = f(w_1^Tx + b_1)$  \n",
        "\n",
        "  $\\qquad y_2 = f(w_2^Tx + b_2)$  \n",
        "  \n",
        "  $\\qquad \\quad ...$\n",
        "\n",
        "  $\\qquad y_{M-1} = f(w_{M-1}^Tx + b_{M-1})$  \n",
        "\n",
        "  $\\quad  \\rightarrow y = f(Wx + b)$"
      ]
    },
    {
      "cell_type": "markdown",
      "metadata": {
        "id": "iH7jWsHRewUi"
      },
      "source": [
        "## 논리회로\n",
        "  * 논리 게이트(Logic Gates)\n",
        "    - AND\n",
        "    - OR\n",
        "    - NOT\n",
        "    - NAND\n",
        "    - NOR  \n",
        "\n",
        "* 다이어그램과 진리표\n",
        "\n",
        "![](http://www.schoolphysics.co.uk/age14-16/Electronics/text/Logic_gates/images/1.png)\n",
        "<br /><sub>출처: http://www.schoolphysics.co.uk/age14-16/Electronics/text/Logic_gates/index.html</sub>"
      ]
    },
    {
      "cell_type": "markdown",
      "metadata": {
        "id": "o3pY4J8MezBm"
      },
      "source": [
        "### AND 게이트\n",
        "\n",
        "- 두 입력이 모두 1일 때 1을 출력하는 논리회로   \n",
        "\n",
        "![](https://www.tutorialspoint.com/computer_logical_organization/images/and_logic.jpg)\n",
        "\n",
        "- 진리표\n",
        "\n",
        "![](https://www.tutorialspoint.com/computer_logical_organization/images/and_truthtable.jpg)\n",
        "<br /><sub>출처: https://www.tutorialspoint.com/computer_logical_organization/logic_gates.htm</sub>\n",
        "\n",
        "- AND 게이트를 만족시키는 가중치와 편향 구하기\n"
      ]
    },
    {
      "cell_type": "code",
      "metadata": {
        "id": "Ml6u-oCzenlh"
      },
      "source": [
        "import numpy as np\n",
        "import matplotlib.pyplot as plt\n",
        "plt.style.use(['seaborn-whitegrid'])"
      ],
      "execution_count": null,
      "outputs": []
    },
    {
      "cell_type": "code",
      "metadata": {
        "id": "IQHe-5E2e2UJ"
      },
      "source": [
        "def AND(a, b):\n",
        "  input = np.array([a,b])\n",
        "  weights = np.array([0.4, 0.4])\n",
        "  bias = -0.6\n",
        "  value = np.sum(input * weights) + bias\n",
        "\n",
        "  if value <= 0:\n",
        "    return 0\n",
        "  else:\n",
        "    return 1"
      ],
      "execution_count": null,
      "outputs": []
    },
    {
      "cell_type": "code",
      "metadata": {
        "id": "gObrhki8e4hk",
        "colab": {
          "base_uri": "https://localhost:8080/"
        },
        "outputId": "d2e1488d-bba0-4bc7-b7d7-541cc4b63edc"
      },
      "source": [
        "print(AND(0,0))\n",
        "print(AND(0,1))\n",
        "print(AND(1,0))\n",
        "print(AND(1,1))"
      ],
      "execution_count": null,
      "outputs": [
        {
          "output_type": "stream",
          "text": [
            "0\n",
            "0\n",
            "0\n",
            "1\n"
          ],
          "name": "stdout"
        }
      ]
    },
    {
      "cell_type": "code",
      "metadata": {
        "id": "uDPqdCl1e6fV",
        "colab": {
          "base_uri": "https://localhost:8080/",
          "height": 266
        },
        "outputId": "9853e894-b441-4ef3-81b2-7943f15d01a5"
      },
      "source": [
        "x1 = np.arange(-2, 2, 0.01)\n",
        "x2 = np.arange(-2, 2, 0.01)\n",
        "bias = -0.6\n",
        "\n",
        "y = (-0.4 * x1 - bias) / 0.4\n",
        "\n",
        "plt.axvline(x=0)\n",
        "plt.axhline(y=0)\n",
        "\n",
        "plt.plot(x1, y, '--r')\n",
        "plt.scatter(0,0, color='orange', marker = 'o', s = 150)\n",
        "plt.scatter(0,1, color='orange', marker = 'o', s = 150)\n",
        "plt.scatter(1,0, color='orange', marker = 'o', s = 150)\n",
        "plt.scatter(1,1, color='black', marker = '^', s = 150)\n",
        "plt.xlim(-0.5, 1.5)\n",
        "plt.ylim(-0.5, 1.5)\n",
        "plt.grid()\n",
        "plt.show()"
      ],
      "execution_count": null,
      "outputs": [
        {
          "output_type": "display_data",
          "data": {
            "image/png": "[encoded data removed]",
            "text/plain": [
              "<Figure size 432x288 with 1 Axes>"
            ]
          },
          "metadata": {
            "needs_background": "light"
          }
        }
      ]
    },
    {
      "cell_type": "markdown",
      "metadata": {
        "id": "_Gz29P-ve-jD"
      },
      "source": [
        "### OR 게이트\n",
        "\n",
        "- 두 입력 중 하나라도 1이면 1을 출력하는 논리회로  \n",
        "  \n",
        "![](https://www.tutorialspoint.com/computer_logical_organization/images/or_logic.jpg)\n",
        "\n",
        "- 진리표  \n",
        "\n",
        "![](https://www.tutorialspoint.com/computer_logical_organization/images/or_truthtable.jpg)\n",
        "<br /><sub>출처: https://www.tutorialspoint.com/computer_logical_organization/logic_gates.htm</sub>\n",
        "\n",
        "- OR 게이트를 만족시키는 가중치와 편향 구하기\n"
      ]
    },
    {
      "cell_type": "code",
      "metadata": {
        "id": "8mSvmfXve8JR"
      },
      "source": [
        "def OR(a, b):\n",
        "  input = np.array([a,b])\n",
        "  weights = np.array([0.2,0.2])\n",
        "  bias = -0.1\n",
        "  value = np.sum(input * weights) + bias\n",
        "  if value <= 0:\n",
        "    return 0\n",
        "  else:\n",
        "    return 1"
      ],
      "execution_count": null,
      "outputs": []
    },
    {
      "cell_type": "code",
      "metadata": {
        "id": "8Xc_nF6lfNH3",
        "colab": {
          "base_uri": "https://localhost:8080/"
        },
        "outputId": "337fa931-5102-4e5c-e270-099528e098fd"
      },
      "source": [
        "print(OR(0,0))\n",
        "print(OR(0,1))\n",
        "print(OR(1,0))\n",
        "print(OR(1,1))"
      ],
      "execution_count": null,
      "outputs": [
        {
          "output_type": "stream",
          "text": [
            "0\n",
            "1\n",
            "1\n",
            "1\n"
          ],
          "name": "stdout"
        }
      ]
    },
    {
      "cell_type": "code",
      "metadata": {
        "id": "pR9RrNj4fOez",
        "colab": {
          "base_uri": "https://localhost:8080/",
          "height": 266
        },
        "outputId": "a91ff502-2c4c-46c9-c478-606a05266704"
      },
      "source": [
        "x1 = np.arange(-2, 2, 0.01)\n",
        "x2 = np.arange(-2, 2, 0.01)\n",
        "bias = -0.1\n",
        "\n",
        "y = (-0.2 * x1 - bias) / 0.2\n",
        "\n",
        "plt.axvline(x=0)\n",
        "plt.axhline(y=0)\n",
        "\n",
        "plt.plot(x1, y, '--r')\n",
        "plt.scatter(0,0, color='black', marker = 'o', s = 150)\n",
        "plt.scatter(0,1, color='orange', marker = 'o', s = 150)\n",
        "plt.scatter(1,0, color='orange', marker = 'o', s = 150)\n",
        "plt.scatter(1,1, color='orange', marker = '^', s = 150)\n",
        "plt.xlim(-0.5, 1.5)\n",
        "plt.ylim(-0.5, 1.5)\n",
        "plt.grid()\n",
        "plt.show()"
      ],
      "execution_count": null,
      "outputs": [
        {
          "output_type": "display_data",
          "data": {
            "image/png": "[encoded data removed]",
            "text/plain": [
              "<Figure size 432x288 with 1 Axes>"
            ]
          },
          "metadata": {
            "needs_background": "light"
          }
        }
      ]
    },
    {
      "cell_type": "markdown",
      "metadata": {
        "id": "G3anpbTsfR7A"
      },
      "source": [
        "### NAND 게이트\n",
        "\n",
        "\n",
        "- 두 입력이 모두 1일 때 0을 출력하는 논리회로\n",
        "\n",
        "![](https://www.tutorialspoint.com/computer_logical_organization/images/nand_logic.jpg)\n",
        "\n",
        "- 진리표  \n",
        "\n",
        "![](https://www.tutorialspoint.com/computer_logical_organization/images/nand_truthtable.jpg)\n",
        "<br /><sub>출처: https://www.tutorialspoint.com/computer_logical_organization/logic_gates.htm</sub>\n",
        "\n",
        "- NAND 게이트를 만족시키는 가중치와 편향 구하기\n",
        "\n"
      ]
    },
    {
      "cell_type": "code",
      "metadata": {
        "id": "pJP5BLDGfP4-"
      },
      "source": [
        "def NAND(a,b):\n",
        "  input = np.array([a,b])\n",
        "  weights = np.array([0.2,0.2])\n",
        "  bias = -0.3\n",
        "  value = np.sum(input * weights) + bias\n",
        "\n",
        "  if value <= 0:\n",
        "    return 1\n",
        "  else:\n",
        "    return 0"
      ],
      "execution_count": null,
      "outputs": []
    },
    {
      "cell_type": "code",
      "metadata": {
        "id": "juB8y1zIfY7z",
        "colab": {
          "base_uri": "https://localhost:8080/"
        },
        "outputId": "861f56ac-9891-418f-ccc4-871ff8de3d9e"
      },
      "source": [
        "print(NAND(0,0))\n",
        "print(NAND(0,1))\n",
        "print(NAND(1,0))\n",
        "print(NAND(1,1))"
      ],
      "execution_count": null,
      "outputs": [
        {
          "output_type": "stream",
          "text": [
            "1\n",
            "1\n",
            "1\n",
            "0\n"
          ],
          "name": "stdout"
        }
      ]
    },
    {
      "cell_type": "code",
      "metadata": {
        "id": "G6WDqUWefaeX",
        "colab": {
          "base_uri": "https://localhost:8080/",
          "height": 266
        },
        "outputId": "16df8c97-8a6b-4b31-f229-641b4a2d5531"
      },
      "source": [
        "x1 = np.arange(-2, 2, 0.01)\n",
        "x2 = np.arange(-2, 2, 0.01)\n",
        "bias = -0.3\n",
        "\n",
        "y = (-0.2 * x1 - bias) / 0.2\n",
        "\n",
        "plt.axvline(x=0)\n",
        "plt.axhline(y=0)\n",
        "\n",
        "plt.plot(x1, y, '--r')\n",
        "plt.scatter(0,0, color='orange', marker = 'o', s = 150)\n",
        "plt.scatter(0,1, color='orange', marker = 'o', s = 150)\n",
        "plt.scatter(1,0, color='orange', marker = 'o', s = 150)\n",
        "plt.scatter(1,1, color='black', marker = '^', s = 150)\n",
        "plt.xlim(-0.5, 1.5)\n",
        "plt.ylim(-0.5, 1.5)\n",
        "plt.grid()\n",
        "plt.show()"
      ],
      "execution_count": null,
      "outputs": [
        {
          "output_type": "display_data",
          "data": {
            "image/png": "[encoded data removed]",
            "text/plain": [
              "<Figure size 432x288 with 1 Axes>"
            ]
          },
          "metadata": {
            "needs_background": "light"
          }
        }
      ]
    },
    {
      "cell_type": "markdown",
      "metadata": {
        "id": "ZWVJN3iTfenX"
      },
      "source": [
        "### XOR 게이트\n",
        "\n",
        "- 인공지능 첫번째 겨울\n",
        "- 딥러닝의 첫번째 위기를 초래\n",
        "  - 마빈 민스키와 세이무어 페퍼트에 의해 문제 제기\n",
        "  - AND, NAND와 같은 선형문제는 퍼셉트론으로 해결 가능, 하지만 XOR은 어떻게? 직선(선형) 하나로는 불가능!\n",
        "\n",
        "![](http://ecee.colorado.edu/~ecen4831/lectures/xor2.gif)\n",
        "<br /><sub>출처: http://ecee.colorado.edu/~ecen4831/lectures/NNet3.html</sub>\n",
        "\n",
        "- **다층 퍼셉트론**으로 해결\n",
        "  - 비선형 문제를 해결할 수 있다!\n",
        "\n",
        "- AND, NAND, OR Gate를 조합"
      ]
    },
    {
      "cell_type": "markdown",
      "metadata": {
        "id": "W7hNassAfhxK"
      },
      "source": [
        "## 다층 퍼셉트론(Multi Layer Perceptron, MLP)  \n",
        "\n",
        "![](https://upload.wikimedia.org/wikipedia/commons/c/c2/MultiLayerNeuralNetworkBigger_english.png)\n",
        "<br /><sub>출처: https://commons.wikimedia.org/wiki/File:MultiLayerNeuralNetworkBigger_english.png</sub>\n"
      ]
    },
    {
      "cell_type": "markdown",
      "metadata": {
        "id": "-N6uSU0-L4Oi"
      },
      "source": [
        "### 다층 퍼셉트론의 구성\n",
        "\n",
        "  - 입력층(input layer)\n",
        "  - 은닉층(hidden layer)\n",
        "    - 1개 이상 존재\n",
        "    - 보통 5개 이상 존재하면 Deep Neural Network라고 칭함\n",
        "  - 출력층(output layer)  \n",
        "\n",
        "![](https://www.researchgate.net/profile/Sandip_Lahiri/publication/26614896/figure/fig1/AS:310007494135809@1450922954279/A-schematic-diagram-of-artificial-neural-network-and-architecture-of-the-feed-forward.png)\n",
        "<br /><sub>출처: https://www.researchgate.net/figure/A-schematic-diagram-of-artificial-neural-network-and-architecture-of-the-feed-forward_fig1_26614896</sub>\n",
        "\n",
        "  - 수식 \n",
        "\n",
        "    - (input layer $\\rightarrow$ hidden layer)   \n",
        "  $ \\quad z = f_L(W_Lx + b_L) $  \n",
        "\n",
        "    - (hidden layer $\\rightarrow$ output layer)   \n",
        "  $ \\quad y = a_K(W_Kz + b_K) $  "
      ]
    },
    {
      "cell_type": "markdown",
      "metadata": {
        "id": "38mOWdHzfsO_"
      },
      "source": [
        "### XOR 게이트\n",
        "- 서로 다른 두 값이 입력으로 들어가면 1을 반환\n",
        "\n",
        "- 진리표  \n",
        "\n",
        "![](https://www.tutorialspoint.com/computer_logical_organization/images/xor_truthtable.jpg)\n",
        "<br /><sub>출처: https://www.tutorialspoint.com/computer_logical_organization/logic_gates.htm</sub>\n"
      ]
    },
    {
      "cell_type": "code",
      "metadata": {
        "id": "VULVZbxVfb_M"
      },
      "source": [
        "def XOR(x1, x2):\n",
        "  s1 = NAND(x1,x2)\n",
        "  s2 = OR(x1,x2)\n",
        "  y = AND(s1,s2)\n",
        "\n",
        "  return y"
      ],
      "execution_count": null,
      "outputs": []
    },
    {
      "cell_type": "code",
      "metadata": {
        "id": "KFcXlWJKfuLg",
        "colab": {
          "base_uri": "https://localhost:8080/"
        },
        "outputId": "2600d4a7-9197-46d7-b609-0cd3c4730572"
      },
      "source": [
        "print(XOR(0,0))\n",
        "print(XOR(0,1))\n",
        "print(XOR(1,0))\n",
        "print(XOR(1,1))"
      ],
      "execution_count": null,
      "outputs": [
        {
          "output_type": "stream",
          "text": [
            "0\n",
            "1\n",
            "1\n",
            "0\n"
          ],
          "name": "stdout"
        }
      ]
    },
    {
      "cell_type": "markdown",
      "metadata": {
        "id": "FgdNIo5dfx2Y"
      },
      "source": [
        "## 활성화 함수(Activation Function)\n",
        "\n",
        "- 입력 신호의 총합을 출력 신호로 변환하는 함수\n",
        "- 활성화 함수에 따라 출력값이 결정\n",
        "- 단층, 다층 퍼셉트론 모두 사용\n",
        "- 대표적인 활성화 함수\n",
        "  - Sigmoid\n",
        "  - ReLU\n",
        "  - tanh \n",
        "  - Identity Function\n",
        "  - Softmax\n",
        "\n",
        "-  하나의 layer에서 다음 layer로 넘어갈 때는 항상 활성화 함수를 통과\n",
        "    \n",
        "- [참고] 여러가지 활성화 함수  \n",
        " https://en.wikipedia.org/wiki/Activation_function  \n",
        "\n",
        "\n",
        "\n"
      ]
    },
    {
      "cell_type": "markdown",
      "metadata": {
        "id": "sqLlBrSEf31I"
      },
      "source": [
        "### Step Function(계단 함수)\n",
        "\n",
        "### $\\quad y = \\begin{cases}\n",
        "0 \\quad (x < 0) \\\\\n",
        "1 \\quad (x \\ge 0)\n",
        "\\end{cases} $   \n",
        "\n",
        "![](https://www.intmath.com/laplace-transformation/svg/svgphp-unit-step-functions-definition-1a-s1.svg)\n",
        "<br /><sub>출처: https://www.intmath.com/laplace-transformation/1a-unit-step-functions-definition.php</sub>\n",
        "  \n",
        "\n"
      ]
    },
    {
      "cell_type": "code",
      "metadata": {
        "id": "hQS9fxpfIZLS"
      },
      "source": [
        "def step_function(x):\n",
        "  if x < 0:\n",
        "    return 0\n",
        "  else:\n",
        "    return 1"
      ],
      "execution_count": null,
      "outputs": []
    },
    {
      "cell_type": "code",
      "metadata": {
        "id": "I9wJ-Ht1fvpi"
      },
      "source": [
        "def step_function_for_numpy(x):\n",
        "  y = x > 0\n",
        "  return y.astype(np.int)"
      ],
      "execution_count": null,
      "outputs": []
    },
    {
      "cell_type": "code",
      "metadata": {
        "id": "3eYjdSmUf5zm",
        "colab": {
          "base_uri": "https://localhost:8080/"
        },
        "outputId": "6bc8d629-a61b-442f-8b9c-b4460f4b8303"
      },
      "source": [
        "print(step_function(-2))\n",
        "print(step_function(0))\n",
        "a = np.array([1,2,-3,-4])\n",
        "\n",
        "print(step_function_for_numpy(a))"
      ],
      "execution_count": null,
      "outputs": [
        {
          "output_type": "stream",
          "text": [
            "0\n",
            "1\n",
            "[1 1 0 0]\n"
          ],
          "name": "stdout"
        }
      ]
    },
    {
      "cell_type": "markdown",
      "metadata": {
        "id": "5OKFVCMqf9uc"
      },
      "source": [
        "\n",
        "### Sigmoid Function(시그모이드 함수)\n",
        "- 이진분류(binary classification)에 주로 사용\n",
        "  - 마지막 출력층의 활성화 함수로 사용\n",
        "- 출력값이 0~1 의 값이며, 이는 **확률**로 표현 가능\n",
        "\n",
        "\n",
        "$\\quad y = \\frac{1}{1 + e^{-x}}$\n",
        "\n",
        "![](https://media.geeksforgeeks.org/wp-content/uploads/20190911181329/Screenshot-2019-09-11-18.05.46.png)\n",
        "<br /><sub>출처: https://www.geeksforgeeks.org/implement-sigmoid-function-using-numpy/</sub>\n",
        "\n"
      ]
    },
    {
      "cell_type": "code",
      "metadata": {
        "id": "9Q7Ywp-Pf7gC"
      },
      "source": [
        "def sigmoid(x):\n",
        "  return 1/(1+np.exp(-x))"
      ],
      "execution_count": null,
      "outputs": []
    },
    {
      "cell_type": "code",
      "metadata": {
        "id": "6ZcSKcAYgB9d",
        "colab": {
          "base_uri": "https://localhost:8080/"
        },
        "outputId": "f97c9241-538a-4bad-aa43-d9e00c9d995d"
      },
      "source": [
        "print(sigmoid(20))\n",
        "print(sigmoid(-3))"
      ],
      "execution_count": null,
      "outputs": [
        {
          "output_type": "stream",
          "text": [
            "0.9999999979388463\n",
            "0.04742587317756678\n"
          ],
          "name": "stdout"
        }
      ]
    },
    {
      "cell_type": "markdown",
      "metadata": {
        "id": "s1x6bb83gFWv"
      },
      "source": [
        "### 시그모이드 함수와 계단 함수 비교\n",
        "\n",
        "- 공통점\n",
        "  - 출력값이 0~1 내의 범위\n",
        "  - 입력값의 정도에 따라 출력값의 정도가 달라짐 \n",
        "    즉, 입력이 중요하면(입력값이 크면) 큰 값을 출력\n",
        "    \n",
        "- 차이점  \n",
        " 계단함수에 비해 시그모이드 함수는 \n",
        "  - 입력에 따라 출력이 연속적으로 변화\n",
        "  - 출력이 '매끄러움'  \n",
        "    이는 모든 점에서 **미분 가능**함을 의미\n"
      ]
    },
    {
      "cell_type": "code",
      "metadata": {
        "colab": {
          "base_uri": "https://localhost:8080/",
          "height": 262
        },
        "id": "UIiqakfTH7Zy",
        "outputId": "3480a73d-9a57-4e10-fd96-36b0a5c1351c"
      },
      "source": [
        "plt.grid()\n",
        "x = np.arange(-5.0, 5.0, 0.01)\n",
        "y1 = sigmoid(x)\n",
        "y2 = step_function_for_numpy(x)\n",
        "plt.plot(x, y1, '-r', x, y2, '--b')\n",
        "plt.show()"
      ],
      "execution_count": null,
      "outputs": [
        {
          "output_type": "display_data",
          "data": {
            "image/png": "[encoded data removed]",
            "text/plain": [
              "<Figure size 432x288 with 1 Axes>"
            ]
          },
          "metadata": {
            "needs_background": "light"
          }
        }
      ]
    },
    {
      "cell_type": "markdown",
      "metadata": {
        "id": "9q3FQagJgJDs"
      },
      "source": [
        "\n",
        "### ReLU(Rectified Linear Unit)\n",
        "\n",
        "- 가장 많이 쓰이는 함수 중 하나  \n",
        "  \n",
        "  ### $ y = \\begin{cases}\n",
        "0 \\quad (x \\le 0) \\\\\n",
        "x \\quad (x > 0)\n",
        "\\end{cases} $\n",
        "\n",
        "![](https://3qeqpr26caki16dnhd19sv6by6v-wpengine.netdna-ssl.com/wp-content/uploads/2018/10/Line-Plot-of-Rectified-Linear-Activation-for-Negative-and-Positive-Inputs.png)\n",
        "<br /><sub>출처: https://machinelearningmastery.com/rectified-linear-activation-function-for-deep-learning-neural-networks/</sub>\n"
      ]
    },
    {
      "cell_type": "code",
      "metadata": {
        "id": "2cEsh_FqgHUr"
      },
      "source": [
        "def RELU(x):\n",
        "  if x <= 0:\n",
        "    return 0\n",
        "  else:\n",
        "    return x"
      ],
      "execution_count": null,
      "outputs": []
    },
    {
      "cell_type": "code",
      "metadata": {
        "id": "nYbYYssSgLyP",
        "colab": {
          "base_uri": "https://localhost:8080/"
        },
        "outputId": "f6ed1564-136a-478c-afa7-b5cf4279ea88"
      },
      "source": [
        "print(RELU(5))\n",
        "print(RELU(-3))"
      ],
      "execution_count": null,
      "outputs": [
        {
          "output_type": "stream",
          "text": [
            "5\n",
            "0\n"
          ],
          "name": "stdout"
        }
      ]
    },
    {
      "cell_type": "markdown",
      "metadata": {
        "id": "GWXjAqjngPi0"
      },
      "source": [
        "\n",
        "### 하이퍼볼릭탄젠트 함수(Hyperbolic tangent function, tanh)\n",
        "\n",
        " ### $ \\quad y = \\frac{e^x - e^{-x}}{e^x + e^{-x}}$\n",
        "\n",
        "![](https://ww.namu.la/s/aeff20070260dc095f50d1ec74f1d4dd96bab65016ab1b01bed2145850e165e7c713734ff60047392c522e784bec9605782e4cacb2606725d782714917e2a47456d4c4a308c4b4bcc7f9a905b357556b912b404573385c42ba30e41a627dd31a)\n",
        "<br /><sub>출처: https://namu.wiki/w/%EC%8C%8D%EA%B3%A1%EC%84%A0%20%ED%95%A8%EC%88%98</sub>\n",
        "\n"
      ]
    },
    {
      "cell_type": "code",
      "metadata": {
        "id": "iF3lGXSegNZJ"
      },
      "source": [
        "def tanh(x):\n",
        "  return (np.exp(x) - np.exp(-x))/ (np.exp(x)+np.exp(-x))\n"
      ],
      "execution_count": null,
      "outputs": []
    },
    {
      "cell_type": "code",
      "metadata": {
        "id": "x6GCAu1DgSAw",
        "colab": {
          "base_uri": "https://localhost:8080/"
        },
        "outputId": "a8be3f6e-b5a4-4790-bf99-c967c5e1802d"
      },
      "source": [
        "print(tanh(5))\n",
        "print(tanh(-10))"
      ],
      "execution_count": null,
      "outputs": [
        {
          "output_type": "stream",
          "text": [
            "0.999909204262595\n",
            "-0.9999999958776926\n"
          ],
          "name": "stdout"
        }
      ]
    },
    {
      "cell_type": "markdown",
      "metadata": {
        "id": "i2bVEk3GgVDL"
      },
      "source": [
        "### Identity Function(항등 함수)\n",
        "- 회귀(Regression) 문제에서 주로 사용  \n",
        "  - 출력층의 활성화 함수로 활용\n",
        "\n",
        "- $y=x$\n",
        "\n",
        "- 입력값 그대로 출력하기 때문에 굳이 정의할 필요는 없지만  \n",
        "  신경망 중간 레이어 흐름과 통일하기 위해 사용\n",
        "\n",
        "![](https://math.info/image/394/identity_function.jpg)\n",
        "<br /><sub>출처: https://math.info/Algebra/Identity_Function/</sub>\n"
      ]
    },
    {
      "cell_type": "code",
      "metadata": {
        "id": "NC3M0oq_gTgY"
      },
      "source": [
        "def identify_function(x):\n",
        "  return x"
      ],
      "execution_count": null,
      "outputs": []
    },
    {
      "cell_type": "code",
      "metadata": {
        "id": "V50HKDVMgXgh",
        "colab": {
          "base_uri": "https://localhost:8080/"
        },
        "outputId": "62b4bcc0-22ca-479e-c724-67fb263668f0"
      },
      "source": [
        "a = np.array([1,2,3,4,5])\n",
        "print(identify_function(a))"
      ],
      "execution_count": null,
      "outputs": [
        {
          "output_type": "stream",
          "text": [
            "[1 2 3 4 5]\n"
          ],
          "name": "stdout"
        }
      ]
    },
    {
      "cell_type": "markdown",
      "metadata": {
        "id": "npL99RRugad-"
      },
      "source": [
        "### Softmax\n",
        "\n",
        "- 다중 클래스 분류에 사용(Multi Class Classification)\n",
        "- 입력값의 영향을 크게 받음  \n",
        "  입력값이 크면 출력값도 큼\n",
        "- 출력값을 확률에 대응가능\n",
        "- 출력값의 **총합은 1**\n",
        "\n",
        "- 수식  \n",
        " ### $ y_k = \\frac{exp(a_k)}{\\sum_{i=1}{exp(a_i)}}$\n",
        "\n",
        "![](https://miro.medium.com/max/1400/1*670CdxchunD-yAuUWdI7Bw.png)\n",
        "<br /><sub>출처: https://medium.com/data-science-bootcamp/understand-the-softmax-function-in-minutes-f3a59641e86d</sub>"
      ]
    },
    {
      "cell_type": "code",
      "metadata": {
        "id": "6Ku0ucpygYrE"
      },
      "source": [
        "def softmax(a):\n",
        "  exp_a = np.exp(a)\n",
        "  sum_exp_a = np.sum(exp_a)\n",
        "  y = exp_a / sum_exp_a\n",
        "  return y"
      ],
      "execution_count": null,
      "outputs": []
    },
    {
      "cell_type": "code",
      "metadata": {
        "id": "HikF6Peigdew",
        "colab": {
          "base_uri": "https://localhost:8080/"
        },
        "outputId": "8b551386-036e-4b17-9cda-42154a9a36a7"
      },
      "source": [
        "a = np.array([1.2, 3.3, 4.5, 5.0])\n",
        "print(softmax(a))\n",
        "print(np.sum(softmax(a)))"
      ],
      "execution_count": null,
      "outputs": [
        {
          "output_type": "stream",
          "text": [
            "[0.01234873 0.10084182 0.33480663 0.55200282]\n",
            "1.0\n"
          ],
          "name": "stdout"
        }
      ]
    },
    {
      "cell_type": "markdown",
      "metadata": {
        "id": "BYIgC71lghbo"
      },
      "source": [
        "#### 소프트맥스 함수 주의점\n",
        "- 오버플로우(overflow) 문제\n",
        "- 지수함수(exponential function)을 사용하기 때문에  \n",
        "  입력값이 너무 크면 무한대(inf)가 반환됨\n",
        "\n",
        "- 개선한 수식\n",
        " ## $y_k = \\frac{exp(a_k)}{\\sum_{i=1}{exp(a_i)}} = \\frac{Cexp(a_k)}{C\\sum_{i=1}{exp(a_i)}} \\\\\n",
        "  \\quad = \\frac{exp(a_k + logC)}{\\sum_{i=1}{exp(a_i + logC)}} \\\\\n",
        "  \\quad = \\frac{exp(a_k + C')}{\\sum_{i=1}{exp(a_i + C')}}\n",
        "  $"
      ]
    },
    {
      "cell_type": "code",
      "metadata": {
        "id": "OQTWqn2fgk42",
        "colab": {
          "base_uri": "https://localhost:8080/"
        },
        "outputId": "75d91333-95d4-4eb1-f0dd-4d72f21d0cdf"
      },
      "source": [
        "A = np.array([1000, 900, 1050, 600])\n",
        "print(softmax(A))"
      ],
      "execution_count": null,
      "outputs": [
        {
          "output_type": "stream",
          "text": [
            "[nan nan nan  0.]\n"
          ],
          "name": "stdout"
        },
        {
          "output_type": "stream",
          "text": [
            "/usr/local/lib/python3.7/dist-packages/ipykernel_launcher.py:2: RuntimeWarning: overflow encountered in exp\n",
            "  \n",
            "/usr/local/lib/python3.7/dist-packages/ipykernel_launcher.py:4: RuntimeWarning: invalid value encountered in true_divide\n",
            "  after removing the cwd from sys.path.\n"
          ],
          "name": "stderr"
        }
      ]
    },
    {
      "cell_type": "code",
      "metadata": {
        "id": "tmuXmRY8gfWc"
      },
      "source": [
        "#개선한 버전\n",
        "def softmax(a):\n",
        "  C = np.max(a)\n",
        "  return (np.exp(a-C)) / (np.sum(np.exp(a-C)))"
      ],
      "execution_count": null,
      "outputs": []
    },
    {
      "cell_type": "code",
      "metadata": {
        "id": "RJADjg8Zgjab",
        "colab": {
          "base_uri": "https://localhost:8080/"
        },
        "outputId": "539d6c11-849d-4029-fac9-70f905ed3d19"
      },
      "source": [
        "A = np.array([1000, 900, 1050, 600])\n",
        "print(softmax(A))"
      ],
      "execution_count": null,
      "outputs": [
        {
          "output_type": "stream",
          "text": [
            "[1.92874985e-022 7.17509597e-066 1.00000000e+000 3.69388307e-196]\n"
          ],
          "name": "stdout"
        }
      ]
    },
    {
      "cell_type": "markdown",
      "metadata": {
        "id": "-1cWHyPbgoaH"
      },
      "source": [
        "### 활성화 함수를 비선형 함수(non-linear function)로 사용하는 이유\n",
        "- 신경망을 깊게(deep) 하기 위함\n",
        "- 만약 활성화 함수를 선형함수(linear function)으로 하게 되면 은닉층의 갯수가 여러개이더라도 의미가 없어짐\n",
        "- 만약,$\\ h(x) = cx이고, 3개의 은닉층이 존재한다면 \n",
        "\\\\  \n",
        "y = h(h(h(x)))  \\\\\n",
        "\\ \\ = c*c*c*x \\\\\n",
        "\\ \\ = c^3x \\\\ $  \n",
        "이므로 결국에는 선형함수가 되어버림\n"
      ]
    },
    {
      "cell_type": "markdown",
      "metadata": {
        "id": "MD3C4UcVgrxk"
      },
      "source": [
        "### 그 외의 활성화 함수\n",
        "- LeakyReLU\n",
        "\n",
        "### $ \\ \\ f_a(x) = \\begin{cases}\n",
        "x \\quad (x \\ge 0) \\\\\n",
        "ax \\quad (x < 0)\n",
        "\\end{cases}$ \n",
        "\n",
        "![](https://i0.wp.com/knowhowspot.com/wp-content/uploads/2019/04/IMG_20190406_220045-1.jpg)\n",
        "<br /><sub>출처: https://knowhowspot.com/technology/ai-and-machine-learning/artificial-neural-network-activation-function/</sub>"
      ]
    },
    {
      "cell_type": "code",
      "metadata": {
        "id": "BigOia-QgmcF"
      },
      "source": [
        "def LeakyReLU(x):\n",
        "  a = 0.01\n",
        "  return np.maximum(a * x, x )"
      ],
      "execution_count": null,
      "outputs": []
    },
    {
      "cell_type": "code",
      "metadata": {
        "id": "LY2YbDJ0g1Aw",
        "colab": {
          "base_uri": "https://localhost:8080/"
        },
        "outputId": "0cc61be7-e62f-4e86-a817-b07f84360efe"
      },
      "source": [
        "a = np.array([1,2,-4,-5,-0.3])\n",
        "print(LeakyReLU(a))"
      ],
      "execution_count": null,
      "outputs": [
        {
          "output_type": "stream",
          "text": [
            "[ 1.     2.    -0.04  -0.05  -0.003]\n"
          ],
          "name": "stdout"
        }
      ]
    },
    {
      "cell_type": "markdown",
      "metadata": {
        "id": "RDh7qyImg4me"
      },
      "source": [
        "- ELU(Exponential Linear Units)  \n",
        "\n",
        "  $ f(\\alpha, x) = \\begin{cases}\n",
        "\\alpha \\ (e^x - 1) \\quad (x \\le 0) \\\\\n",
        "x \\qquad \\qquad (x > 0)\n",
        "\\end{cases}$  \n",
        "\n",
        "![](https://www.researchgate.net/publication/331794632/figure/fig1/AS:736888264609792@1552699261431/Exponential-Linear-Unit-activation-function-input-output-mapping-The-activation-function.jpg)\n",
        "<br /><sub>출처: https://www.researchgate.net/figure/Exponential-Linear-Unit-activation-function-input-output-mapping-The-activation-function_fig1_331794632</sub>"
      ]
    },
    {
      "cell_type": "code",
      "metadata": {
        "id": "1nImmUf9g2lV"
      },
      "source": [
        "def ELU(x):\n",
        "  alpha = 1.0\n",
        "  return (x > 0) * x + (x <= 0) * alpha * (np.exp(x) - 1)"
      ],
      "execution_count": null,
      "outputs": []
    },
    {
      "cell_type": "code",
      "metadata": {
        "id": "1kZVCKTxg_RX",
        "colab": {
          "base_uri": "https://localhost:8080/"
        },
        "outputId": "d484278a-8f94-4d5e-f3d6-d2038adc11f3"
      },
      "source": [
        "print(ELU(4))\n",
        "print(ELU(-0.3))\n",
        "\n",
        "x = np.array([-2, 0.1, 4])\n",
        "print(ELU(x))"
      ],
      "execution_count": null,
      "outputs": [
        {
          "output_type": "stream",
          "text": [
            "4.0\n",
            "-0.2591817793182821\n",
            "[-0.86466472  0.1         4.        ]\n"
          ],
          "name": "stdout"
        }
      ]
    },
    {
      "cell_type": "markdown",
      "metadata": {
        "id": "ir3K7hhLhCf2"
      },
      "source": [
        "### 활성화 함수 참고\n",
        "\n",
        "- 일반적인 사용 순서\n",
        "  1. ELU\n",
        "  2. LeakyReLU\n",
        "  3. ReLU\n",
        "  4. tanh \n",
        "  5. sigmoid 순으로 사용\n",
        "\n",
        "- 스탠포드 강의에서 언급한 사용 순서\n",
        "  1. ReLU\n",
        "  2. ReLU Family(LeakyReLU, ELU)\n",
        "  3. sigmoid는 사용 X  \n",
        "  "
      ]
    },
    {
      "cell_type": "markdown",
      "metadata": {
        "id": "UT27FzpXhJTF"
      },
      "source": [
        "## 3층 신경망 구현하기\n",
        "\n",
        "![Network3322.png](data:image/png;base64,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)\n",
        "<br /><sub>출처: http://deeplearning.stanford.edu/tutorial/supervised/MultiLayerNeuralNetworks/</sub>\n",
        "\n",
        "\n",
        "- 2클래스 분류\n",
        "- 입력층(Input Layer)\n",
        "  - 뉴런수: 3\n",
        "\n",
        "- 은닉층(Hidden Layers)\n",
        "  - 첫번째 은닉층\n",
        "    - 뉴런수: 3\n",
        "  - 두번째 은닉층\n",
        "    - 뉴런수: 2\n",
        "- 출력층(Output Layer)\n",
        "  - 뉴런수: 2  \n"
      ]
    },
    {
      "cell_type": "markdown",
      "metadata": {
        "id": "B2uxTBC3hQVh"
      },
      "source": [
        "### 활성화 함수 정의"
      ]
    },
    {
      "cell_type": "code",
      "metadata": {
        "id": "8iEkt97EhPux"
      },
      "source": [
        "def sigmoid(X):\n",
        "  return 1/ (1+np.exp(-X))\n"
      ],
      "execution_count": null,
      "outputs": []
    },
    {
      "cell_type": "markdown",
      "metadata": {
        "id": "GgjFPw3DhUbO"
      },
      "source": [
        "### 레이어 정의"
      ]
    },
    {
      "cell_type": "code",
      "metadata": {
        "id": "JNygpfXRhS4q",
        "colab": {
          "base_uri": "https://localhost:8080/"
        },
        "outputId": "268b75f0-99f8-43d5-c6d0-6742fae9314b"
      },
      "source": [
        "X = np.array([1.0, 0.5, 0.4])\n",
        "W1 = np.array([[0.1,0.3,0.5],\n",
        "               [0.2, 0.4, 0.6],\n",
        "               [0.3, 0.5, 0.7]])\n",
        "B1 = np.array([1, 1, 1])\n",
        "\n",
        "print(W1)\n",
        "print(W1.shape)\n",
        "print(X.shape)\n",
        "print(B1.shape)\n",
        "\n",
        "A1 = np.dot(X, W1) + B1\n",
        "Z1 = sigmoid(A1)\n",
        "print(A1)\n",
        "print(Z1)"
      ],
      "execution_count": null,
      "outputs": [
        {
          "output_type": "stream",
          "text": [
            "[[0.1 0.3 0.5]\n",
            " [0.2 0.4 0.6]\n",
            " [0.3 0.5 0.7]]\n",
            "(3, 3)\n",
            "(3,)\n",
            "(3,)\n",
            "[1.32 1.7  2.08]\n",
            "[0.78918171 0.84553473 0.88894403]\n"
          ],
          "name": "stdout"
        }
      ]
    },
    {
      "cell_type": "code",
      "metadata": {
        "id": "7gW4luZ3hVqk",
        "colab": {
          "base_uri": "https://localhost:8080/"
        },
        "outputId": "b22bf762-cd9f-4b6d-db88-230e9bbd0a7f"
      },
      "source": [
        "W2 = np.array([[0.2, 0.4, 0.6],\n",
        "               [0.1,0.3,0.5],\n",
        "                [0.4,0.6,0.8]])\n",
        "B2 = np.array([1,1,1])\n",
        "print(W2.shape)\n",
        "print(B2.shape)\n",
        "\n",
        "A2 = np.dot(A1, W2) +B2\n",
        "Z2 = sigmoid(A2)\n",
        "\n",
        "print(A2)\n",
        "print(Z2)"
      ],
      "execution_count": null,
      "outputs": [
        {
          "output_type": "stream",
          "text": [
            "(3, 3)\n",
            "(3,)\n",
            "[2.266 3.286 4.306]\n",
            "[0.90602176 0.96394539 0.9866921 ]\n"
          ],
          "name": "stdout"
        }
      ]
    },
    {
      "cell_type": "code",
      "metadata": {
        "id": "b7cgikzahYYj",
        "colab": {
          "base_uri": "https://localhost:8080/"
        },
        "outputId": "6d85ed48-425b-4dca-a707-6b1f87ba97a8"
      },
      "source": [
        "W3 = np.array([[0.1, 0.3], [-0.1,-0.5],[0.3,0.5]])\n",
        "B3 = np.array([1,1])\n",
        "\n",
        "print(W3)\n",
        "print(B3)\n",
        "\n",
        "A3 = np.dot(Z2, W3) + B3\n",
        "Z3 = sigmoid(A3)\n",
        "\n",
        "print(A3)\n",
        "print(Z3)"
      ],
      "execution_count": null,
      "outputs": [
        {
          "output_type": "stream",
          "text": [
            "[[ 0.1  0.3]\n",
            " [-0.1 -0.5]\n",
            " [ 0.3  0.5]]\n",
            "[1 1]\n",
            "[1.29021527 1.28317988]\n",
            "[0.78418362 0.78299058]\n"
          ],
          "name": "stdout"
        }
      ]
    },
    {
      "cell_type": "code",
      "metadata": {
        "id": "NhGH6HgvhZ7r",
        "colab": {
          "base_uri": "https://localhost:8080/"
        },
        "outputId": "4f45c9ac-9085-4e2b-dc9f-b6e772907a08"
      },
      "source": [
        "W4 = np.array([[0.1,0.2], [0.3,0.5]])\n",
        "B4 = np.array([[1, 1]])\n",
        "\n",
        "print(W4)\n",
        "print(B4)\n",
        "\n",
        "A4 = np.dot(Z3 ,W4) +B4\n",
        "Y4 = sigmoid(A4)\n",
        "\n",
        "print(A4)\n",
        "print(Y4)"
      ],
      "execution_count": null,
      "outputs": [
        {
          "output_type": "stream",
          "text": [
            "[[0.1 0.2]\n",
            " [0.3 0.5]]\n",
            "[[1 1]]\n",
            "[[1.31331554 1.54833201]]\n",
            "[[0.78806744 0.82467269]]\n"
          ],
          "name": "stdout"
        }
      ]
    },
    {
      "cell_type": "code",
      "metadata": {
        "id": "NpTPdvrbhbja"
      },
      "source": [
        "def network():\n",
        "  network = {}\n",
        "  #첫번째 레이어\n",
        "  network['W1'] = np.array([[0.1,0.3,0.5],[0.2, 0.4, 0.6],[0.3, 0.5, 0.7]])\n",
        "  network['B1'] = np.array([1, 1, 1])\n",
        "\n",
        "  #두번째 레이어\n",
        "  network['W2'] = np.array([[0.2, 0.4, 0.6],[0.1,0.3,0.5],[0.4,0.6,0.8]])\n",
        "  network['B2'] = np.array([1, 1, 1])\n",
        "\n",
        "  #세번째 레이어\n",
        "  network['W3'] = np.array([[0.1, 0.3], [-0.1,-0.5],[0.3,0.5]])\n",
        "  network['B3'] = np.array([1,1])\n",
        "\n",
        "  #네번째 레이어\n",
        "  network['W4'] = np.array([[0.1,0.2], [0.3,0.5]])\n",
        "  network['B4'] = np.array([1,1])\n",
        "\n",
        "  return network"
      ],
      "execution_count": null,
      "outputs": []
    },
    {
      "cell_type": "code",
      "metadata": {
        "id": "xd2lyMzhwf7Y"
      },
      "source": [
        "def forward(network, x):\n",
        "  W1, W2, W3 ,W4 = network['W1'], network['W2'],network['W3'],network['W4']\n",
        "  B1, B2 ,B3 ,B4 = network['B1'],network['B2'],network['B3'],network['B4']\n",
        "\n",
        "  A1 = np.dot(x, W1) +B1\n",
        "  Z1 = sigmoid(A1)\n",
        "\n",
        "  A2 = np.dot(Z1, W2) +B2\n",
        "  Z2 = sigmoid(A2)\n",
        "\n",
        "  A3 = np.dot(Z2, W3) +B3\n",
        "  Z3 = sigmoid(A3)\n",
        "\n",
        "  A4 = np.dot(Z3, W4) +B4\n",
        "  y = sigmoid(A4)\n",
        "\n",
        "  return y"
      ],
      "execution_count": null,
      "outputs": []
    },
    {
      "cell_type": "markdown",
      "metadata": {
        "id": "z_oQoRFYhf-4"
      },
      "source": [
        "### 신경망 추론 실행"
      ]
    },
    {
      "cell_type": "code",
      "metadata": {
        "id": "FFwxQXrShc-1",
        "colab": {
          "base_uri": "https://localhost:8080/"
        },
        "outputId": "167bc7fd-d938-49f9-ee6d-a6bcdd4ca63c"
      },
      "source": [
        "net = network()\n",
        "x = np.array([0.3, 1.3, -2.2])\n",
        "y = forward(net ,x)\n",
        "print(y)"
      ],
      "execution_count": null,
      "outputs": [
        {
          "output_type": "stream",
          "text": [
            "[0.78781193 0.82428264]\n"
          ],
          "name": "stdout"
        }
      ]
    },
    {
      "cell_type": "code",
      "metadata": {
        "id": "bxKiKLhEJnyn"
      },
      "source": [
        " "
      ],
      "execution_count": null,
      "outputs": []
    }
  ]
}