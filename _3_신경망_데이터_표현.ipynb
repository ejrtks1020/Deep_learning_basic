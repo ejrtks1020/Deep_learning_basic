{
  "nbformat": 4,
  "nbformat_minor": 0,
  "metadata": {
    "colab": {
      "name": "_3 신경망 데이터 표현",
      "provenance": [],
      "collapsed_sections": [],
      "include_colab_link": true
    },
    "kernelspec": {
      "name": "python3",
      "display_name": "Python 3"
    }
  },
  "cells": [
    {
      "cell_type": "markdown",
      "metadata": {
        "id": "view-in-github",
        "colab_type": "text"
      },
      "source": [
        "<a href=\"https://colab.research.google.com/github/ejrtks1020/Deep_learning_basic/blob/main/_3_%EC%8B%A0%EA%B2%BD%EB%A7%9D_%EB%8D%B0%EC%9D%B4%ED%84%B0_%ED%91%9C%ED%98%84.ipynb\" target=\"_parent\"><img src=\"https://colab.research.google.com/assets/colab-badge.svg\" alt=\"Open In Colab\"/></a>"
      ]
    },
    {
      "cell_type": "markdown",
      "metadata": {
        "id": "ebow7b5dS-KW"
      },
      "source": [
        "# 신경망 데이터 표현"
      ]
    },
    {
      "cell_type": "code",
      "metadata": {
        "id": "9BDaiyTNBFAN"
      },
      "source": [
        "import numpy as np\n",
        "import matplotlib.pyplot as plt\n"
      ],
      "execution_count": null,
      "outputs": []
    },
    {
      "cell_type": "markdown",
      "metadata": {
        "id": "7Ic-YQ7xBQ9m"
      },
      "source": [
        "## 텐서(Tensor)\n",
        "- 일반적으로 텐서는 3차원 이상을 다룰 때 표현하는 방식이지만, 여기서는 어떠한 데이터를 표현할 때, 그 값 모두를 텐서라고 부르기로 함\n",
        "\n",
        "      a = np.array([1, 2])\n",
        "      b = np.array([[1, 2],\n",
        "                    [3, 4]])\n",
        "      c = np.array([10]) \n",
        "      d = np.array(3)  \n",
        "  \n",
        "    a, b, c, d 모두 텐서라고 지칭할 수 있음\n",
        "  \n",
        "- 랭크(rank): 텐서의 축을 나타내고, 넘파이(numpy)의 `ndim`으로 구할 수 있음\n",
        "\n",
        "      a = np.array([1, 2])\n",
        "        >> ndim = 1  \n",
        "      b = np.array([[1, 2],\n",
        "                    [3, 4]])\n",
        "        >> ndim = 2\n",
        "      d = np.array(3)\n",
        "        >> ndim = 0\n",
        "      \n",
        "    위의 예시에서 알 수 있듯이 대괄호( [ ] )의 개수가 곧 랭크(축)의 값\n",
        "    \n",
        "      \n",
        "- 크기(shape): 텐서의 각 축을 따라 얼마나 많은 차원이 있는지를 나타내며, 파이썬의 튜플(tuple) 형태\n"
      ]
    },
    {
      "cell_type": "markdown",
      "metadata": {
        "id": "ehzSlqdjBVxB"
      },
      "source": [
        "## 그림으로 이해하기\n",
        "\n",
        "![array](https://www.oreilly.com/library/view/elegant-scipy/9781491922927/assets/elsp_0105.png)\n",
        "<br /><sub>출처: https://www.oreilly.com/library/view/elegant-scipy/9781491922927/ch01.html</sub>"
      ]
    },
    {
      "cell_type": "markdown",
      "metadata": {
        "id": "AxZDqX5HBYMf"
      },
      "source": [
        "## 스칼라(0차원 텐서)\n",
        "- 하나의 숫자를 담고 있는 텐서(tensor)\n",
        "- 형상은 없음"
      ]
    },
    {
      "cell_type": "code",
      "metadata": {
        "id": "TicFogkHBPRW",
        "colab": {
          "base_uri": "https://localhost:8080/"
        },
        "outputId": "d24ac44f-b441-46cc-9a13-d87918f2fd0b"
      },
      "source": [
        "x = np.array(3)\n",
        "print(x)\n",
        "print(x.shape)\n",
        "print(np.ndim(x))"
      ],
      "execution_count": null,
      "outputs": [
        {
          "output_type": "stream",
          "text": [
            "3\n",
            "()\n",
            "0\n"
          ],
          "name": "stdout"
        }
      ]
    },
    {
      "cell_type": "markdown",
      "metadata": {
        "id": "rab-I4gyBeZw"
      },
      "source": [
        "## 벡터(1차원 텐서)\n",
        "- 숫자의 배열을 나타내는 텐서\n"
      ]
    },
    {
      "cell_type": "code",
      "metadata": {
        "id": "s4gm0mRVBZwa",
        "colab": {
          "base_uri": "https://localhost:8080/"
        },
        "outputId": "0ac5c31c-6c00-4943-cae5-c8fee75fdfe5"
      },
      "source": [
        "x = np.array([1,2,3,4])\n",
        "print(x)\n",
        "print(x.shape)\n",
        "print(np.ndim(x))"
      ],
      "execution_count": null,
      "outputs": [
        {
          "output_type": "stream",
          "text": [
            "[1 2 3 4]\n",
            "(4,)\n",
            "1\n"
          ],
          "name": "stdout"
        }
      ]
    },
    {
      "cell_type": "markdown",
      "metadata": {
        "id": "-S3G7ym8Bh6I"
      },
      "source": [
        "### 벡터의 합\n",
        "- 같은 형상(shape)일 때, 각 원소별로 계산"
      ]
    },
    {
      "cell_type": "code",
      "metadata": {
        "id": "6pzPyoNqBcgn",
        "colab": {
          "base_uri": "https://localhost:8080/"
        },
        "outputId": "0c14217e-d6c5-4c76-9a3f-04d45a6916c4"
      },
      "source": [
        "a = np.array([1, 2,3,4])\n",
        "b = np.array([5,6,7,8])\n",
        "c = a+b\n",
        "print(c)\n",
        "print(c.shape)\n",
        "print(np.ndim(c))"
      ],
      "execution_count": null,
      "outputs": [
        {
          "output_type": "stream",
          "text": [
            "[ 6  8 10 12]\n",
            "(4,)\n",
            "1\n"
          ],
          "name": "stdout"
        }
      ]
    },
    {
      "cell_type": "markdown",
      "metadata": {
        "id": "RqnBR8DyBla5"
      },
      "source": [
        "### 벡터의 곱\n",
        "-  $A = (x_1, \\ x_2, \\ x3, \\ ..., \\ x_n)$  \n",
        "  $B = (y_1, \\ y_2, \\ y3, \\ ..., \\ y_n)$ 일 때,\n",
        "- 원소곱\n",
        "  - 같은 형상(shape)일 때, 각 원소별로 계산   \n",
        "   \n",
        "    $A \\times B = (x_1, \\ x_2, \\ x_3, \\ ..., \\ x_n) \\times (y_1, \\ y_2, \\ y_3, \\ ..., \\ y_n) \\\\   \n",
        "    \\qquad = (x_1y_1, \\ x_2y_2, \\ x_3y_3, \\ ... \\ ,  \\ x_ny_n)  $\n",
        "    \n",
        "- 벡터곱(product, dot)\n",
        "  - 두 1차원 벡터가 있을 때 **각각의 성분끼리의 곱을 모두 더하는 계산**  \n",
        "  \n",
        "    $A \\bullet B \\Rightarrow A \\times B^T = (x_1, \\ x_2, \\ x_3, \\ ..., \\ x_n) \\begin{pmatrix} y_1 \\\\ y_2 \\\\ y_3 \\\\ ... \\\\ y_n  \\end{pmatrix} \\\\  \n",
        "    \\qquad = (x_1y_1 + \\ x_2y_2 + \\ x_3y_3 + \\ ... + \\ x_ny_n)  $\n",
        "  "
      ]
    },
    {
      "cell_type": "code",
      "metadata": {
        "id": "kxcrUZPwBceX",
        "colab": {
          "base_uri": "https://localhost:8080/"
        },
        "outputId": "55e788ef-8801-473c-85ae-016a48ed0ed3"
      },
      "source": [
        "a = np.array([1,2,3,4])\n",
        "b = np.array([5,6,7,8])\n",
        "c = a * b\n",
        "print(c)\n",
        "print(c.shape)\n",
        "print(np.ndim(c))\n",
        "print('-------------------------------------')\n",
        "x = np.array([1,2,0])\n",
        "y = np.array([0,2,1])\n",
        "z = np.dot(x,y)\n",
        "print(z)\n",
        "print(z.shape)\n",
        "print(np.ndim(z))"
      ],
      "execution_count": null,
      "outputs": [
        {
          "output_type": "stream",
          "text": [
            "[ 5 12 21 32]\n",
            "(4,)\n",
            "1\n",
            "-------------------------------------\n",
            "4\n",
            "()\n",
            "0\n"
          ],
          "name": "stdout"
        }
      ]
    },
    {
      "cell_type": "markdown",
      "metadata": {
        "id": "IIKrmykBBpn4"
      },
      "source": [
        "## 스칼라와 벡터의 곱\n"
      ]
    },
    {
      "cell_type": "code",
      "metadata": {
        "id": "CWNGJnA9BcaU",
        "colab": {
          "base_uri": "https://localhost:8080/"
        },
        "outputId": "c62e99cd-b5ff-485f-8265-67f3827966dc"
      },
      "source": [
        "a = np.array(10)\n",
        "b = np.array([1,2,3])\n",
        "print(a * b)"
      ],
      "execution_count": null,
      "outputs": [
        {
          "output_type": "stream",
          "text": [
            "[10 20 30]\n"
          ],
          "name": "stdout"
        }
      ]
    },
    {
      "cell_type": "markdown",
      "metadata": {
        "id": "a_WUc48rBszu"
      },
      "source": [
        "## 2차원 텐서(행렬)\n",
        "- 2차원 텐서는 행렬로 생각할 수 있음\n",
        "    - (m, n) 형상의 배열\n",
        "\n",
        "![matrix](https://upload.wikimedia.org/wikipedia/commons/thumb/4/4d/Matrix_ko.svg/570px-Matrix_ko.svg.png)\n",
        "<br /><sub>출처: https://ko.wikipedia.org/wiki/%ED%96%89%EB%A0%AC</sub>\n"
      ]
    },
    {
      "cell_type": "code",
      "metadata": {
        "id": "M6QQeHZJBcX6",
        "colab": {
          "base_uri": "https://localhost:8080/"
        },
        "outputId": "23878b50-0ccd-4fc0-8b2f-068aeb3cdee2"
      },
      "source": [
        "matrix = np.array([[1,2,3],\n",
        "                   [4,5,6]])\n",
        "\n",
        "print(matrix)\n",
        "print(matrix.shape)\n",
        "print(np.ndim(matrix))\n",
        "print('---------------------------------')\n",
        "matrix2 = np.array([[1,2,3,4]])\n",
        "print(matrix2)\n",
        "print(matrix2.shape)\n",
        "print(np.ndim(matrix2))"
      ],
      "execution_count": null,
      "outputs": [
        {
          "output_type": "stream",
          "text": [
            "[[1 2 3]\n",
            " [4 5 6]]\n",
            "(2, 3)\n",
            "2\n",
            "---------------------------------\n",
            "[[1 2 3 4]]\n",
            "(1, 4)\n",
            "2\n"
          ],
          "name": "stdout"
        }
      ]
    },
    {
      "cell_type": "markdown",
      "metadata": {
        "id": "6LEedf9GB2G1"
      },
      "source": [
        "### 행렬 원소곱\n",
        "- 같은 형상(shape)일 때 덧셈, 곱셈과 같은 연산은 원소별로 진행\n"
      ]
    },
    {
      "cell_type": "code",
      "metadata": {
        "id": "PchJ4TwyBcVc",
        "colab": {
          "base_uri": "https://localhost:8080/"
        },
        "outputId": "abd4d960-911a-4cab-d967-2126009f8a6e"
      },
      "source": [
        "A = np.array([[1,2], [3,4]])\n",
        "B = np.array([[10,10], [10,10]])\n",
        "\n",
        "print('행렬 A\\n', A)\n",
        "print('행렬 B\\n', B)\n",
        "print('A * B\\n', A * B)"
      ],
      "execution_count": null,
      "outputs": [
        {
          "output_type": "stream",
          "text": [
            "행렬 A\n",
            " [[1 2]\n",
            " [3 4]]\n",
            "행렬 B\n",
            " [[10 10]\n",
            " [10 10]]\n",
            "A * B\n",
            " [[10 20]\n",
            " [30 40]]\n"
          ],
          "name": "stdout"
        }
      ]
    },
    {
      "cell_type": "markdown",
      "metadata": {
        "id": "_cvFlhuCB5hz"
      },
      "source": [
        "### 행렬 점곱(내적, product)\n",
        "- 1차원 벡터와 마찬가지로 앞 행렬의 열과 뒤 행렬의 행의 수가 같아야함"
      ]
    },
    {
      "cell_type": "code",
      "metadata": {
        "id": "452G60yvBcRr",
        "colab": {
          "base_uri": "https://localhost:8080/"
        },
        "outputId": "96ec51ff-2442-4dcd-b241-ec8e2cf70d42"
      },
      "source": [
        "M = np.array([[1,2], [3,4]])\n",
        "N = np.array([[2,3,4], [2,3,4]])\n",
        "\n",
        "print('행렬 M\\n',M)\n",
        "print('행렬 N\\n', N)\n",
        "L = np.dot(M, N)\n",
        "\n",
        "print('행렬 L\\n', L)\n",
        "print(L.shape)\n",
        "print(np.ndim(L))"
      ],
      "execution_count": null,
      "outputs": [
        {
          "output_type": "stream",
          "text": [
            "행렬 M\n",
            " [[1 2]\n",
            " [3 4]]\n",
            "행렬 N\n",
            " [[2 3 4]\n",
            " [2 3 4]]\n",
            "행렬 L\n",
            " [[ 6  9 12]\n",
            " [14 21 28]]\n",
            "(2, 3)\n",
            "2\n"
          ],
          "name": "stdout"
        }
      ]
    },
    {
      "cell_type": "code",
      "metadata": {
        "id": "oSgCXPJzBb0_",
        "colab": {
          "base_uri": "https://localhost:8080/",
          "height": 274
        },
        "outputId": "3eaa933e-ce49-41e4-e996-5a2fb94f371a"
      },
      "source": [
        "m = np.array([[1], [2],[3]])\n",
        "n = np.array([[1],[2],[3]])\n",
        "l = np.dot(m, n)\n",
        "print(l)\n",
        "print(l.shape)\n",
        "print(np.ndim(l))"
      ],
      "execution_count": null,
      "outputs": [
        {
          "output_type": "error",
          "ename": "ValueError",
          "evalue": "ignored",
          "traceback": [
            "\u001b[0;31m---------------------------------------------------------------------------\u001b[0m",
            "\u001b[0;31mValueError\u001b[0m                                Traceback (most recent call last)",
            "\u001b[0;32m<ipython-input-15-4b19eaab3a25>\u001b[0m in \u001b[0;36m<module>\u001b[0;34m()\u001b[0m\n\u001b[1;32m      1\u001b[0m \u001b[0mm\u001b[0m \u001b[0;34m=\u001b[0m \u001b[0mnp\u001b[0m\u001b[0;34m.\u001b[0m\u001b[0marray\u001b[0m\u001b[0;34m(\u001b[0m\u001b[0;34m[\u001b[0m\u001b[0;34m[\u001b[0m\u001b[0;36m1\u001b[0m\u001b[0;34m]\u001b[0m\u001b[0;34m,\u001b[0m \u001b[0;34m[\u001b[0m\u001b[0;36m2\u001b[0m\u001b[0;34m]\u001b[0m\u001b[0;34m,\u001b[0m\u001b[0;34m[\u001b[0m\u001b[0;36m3\u001b[0m\u001b[0;34m]\u001b[0m\u001b[0;34m]\u001b[0m\u001b[0;34m)\u001b[0m\u001b[0;34m\u001b[0m\u001b[0;34m\u001b[0m\u001b[0m\n\u001b[1;32m      2\u001b[0m \u001b[0mn\u001b[0m \u001b[0;34m=\u001b[0m \u001b[0mnp\u001b[0m\u001b[0;34m.\u001b[0m\u001b[0marray\u001b[0m\u001b[0;34m(\u001b[0m\u001b[0;34m[\u001b[0m\u001b[0;34m[\u001b[0m\u001b[0;36m1\u001b[0m\u001b[0;34m]\u001b[0m\u001b[0;34m,\u001b[0m\u001b[0;34m[\u001b[0m\u001b[0;36m2\u001b[0m\u001b[0;34m]\u001b[0m\u001b[0;34m,\u001b[0m\u001b[0;34m[\u001b[0m\u001b[0;36m3\u001b[0m\u001b[0;34m]\u001b[0m\u001b[0;34m]\u001b[0m\u001b[0;34m)\u001b[0m\u001b[0;34m\u001b[0m\u001b[0;34m\u001b[0m\u001b[0m\n\u001b[0;32m----> 3\u001b[0;31m \u001b[0ml\u001b[0m \u001b[0;34m=\u001b[0m \u001b[0mnp\u001b[0m\u001b[0;34m.\u001b[0m\u001b[0mdot\u001b[0m\u001b[0;34m(\u001b[0m\u001b[0mm\u001b[0m\u001b[0;34m,\u001b[0m \u001b[0mn\u001b[0m\u001b[0;34m)\u001b[0m\u001b[0;34m\u001b[0m\u001b[0;34m\u001b[0m\u001b[0m\n\u001b[0m\u001b[1;32m      4\u001b[0m \u001b[0mprint\u001b[0m\u001b[0;34m(\u001b[0m\u001b[0ml\u001b[0m\u001b[0;34m)\u001b[0m\u001b[0;34m\u001b[0m\u001b[0;34m\u001b[0m\u001b[0m\n\u001b[1;32m      5\u001b[0m \u001b[0mprint\u001b[0m\u001b[0;34m(\u001b[0m\u001b[0ml\u001b[0m\u001b[0;34m.\u001b[0m\u001b[0mshape\u001b[0m\u001b[0;34m)\u001b[0m\u001b[0;34m\u001b[0m\u001b[0;34m\u001b[0m\u001b[0m\n",
            "\u001b[0;32m<__array_function__ internals>\u001b[0m in \u001b[0;36mdot\u001b[0;34m(*args, **kwargs)\u001b[0m\n",
            "\u001b[0;31mValueError\u001b[0m: shapes (3,1) and (3,1) not aligned: 1 (dim 1) != 3 (dim 0)"
          ]
        }
      ]
    },
    {
      "cell_type": "markdown",
      "metadata": {
        "id": "gfWlP-BtCAzE"
      },
      "source": [
        "### 역행렬\n",
        "- 어떤 행렬 A가 있을 때, 곱해서 단위행렬(E)를 만드는 행렬 B가 존재한다면, 행렬 B는 A의 역행렬"
      ]
    },
    {
      "cell_type": "code",
      "metadata": {
        "id": "0i_L09ggBbwa",
        "colab": {
          "base_uri": "https://localhost:8080/"
        },
        "outputId": "e76025ed-3695-4327-a661-92ea8f6d658d"
      },
      "source": [
        "A = np.array([[1, 2],\n",
        "             [3, 4]])\n",
        "\n",
        "print(A)\n",
        "B = np.linalg.inv(A)\n",
        "print(B)\n",
        "\n",
        "print(np.dot(A,B))\n"
      ],
      "execution_count": null,
      "outputs": [
        {
          "output_type": "stream",
          "text": [
            "[[1 2]\n",
            " [3 4]]\n",
            "[[-2.   1. ]\n",
            " [ 1.5 -0.5]]\n",
            "[[1.0000000e+00 0.0000000e+00]\n",
            " [8.8817842e-16 1.0000000e+00]]\n"
          ],
          "name": "stdout"
        }
      ]
    },
    {
      "cell_type": "code",
      "metadata": {
        "id": "Ra6130CkBbuz",
        "colab": {
          "base_uri": "https://localhost:8080/",
          "height": 386
        },
        "outputId": "6c805200-391d-45bd-cc0b-9c7f98dcd3d4"
      },
      "source": [
        "B = np.array([[3,3], [2,2]])\n",
        "print(np.linalg.inv(B)) #역행렬이 존재하지 않음"
      ],
      "execution_count": null,
      "outputs": [
        {
          "output_type": "error",
          "ename": "LinAlgError",
          "evalue": "ignored",
          "traceback": [
            "\u001b[0;31m---------------------------------------------------------------------------\u001b[0m",
            "\u001b[0;31mLinAlgError\u001b[0m                               Traceback (most recent call last)",
            "\u001b[0;32m<ipython-input-20-52054bb22b5f>\u001b[0m in \u001b[0;36m<module>\u001b[0;34m()\u001b[0m\n\u001b[1;32m      1\u001b[0m \u001b[0mB\u001b[0m \u001b[0;34m=\u001b[0m \u001b[0mnp\u001b[0m\u001b[0;34m.\u001b[0m\u001b[0marray\u001b[0m\u001b[0;34m(\u001b[0m\u001b[0;34m[\u001b[0m\u001b[0;34m[\u001b[0m\u001b[0;36m3\u001b[0m\u001b[0;34m,\u001b[0m\u001b[0;36m3\u001b[0m\u001b[0;34m]\u001b[0m\u001b[0;34m,\u001b[0m \u001b[0;34m[\u001b[0m\u001b[0;36m2\u001b[0m\u001b[0;34m,\u001b[0m\u001b[0;36m2\u001b[0m\u001b[0;34m]\u001b[0m\u001b[0;34m]\u001b[0m\u001b[0;34m)\u001b[0m\u001b[0;34m\u001b[0m\u001b[0;34m\u001b[0m\u001b[0m\n\u001b[0;32m----> 2\u001b[0;31m \u001b[0mprint\u001b[0m\u001b[0;34m(\u001b[0m\u001b[0mnp\u001b[0m\u001b[0;34m.\u001b[0m\u001b[0mlinalg\u001b[0m\u001b[0;34m.\u001b[0m\u001b[0minv\u001b[0m\u001b[0;34m(\u001b[0m\u001b[0mB\u001b[0m\u001b[0;34m)\u001b[0m\u001b[0;34m)\u001b[0m\u001b[0;34m\u001b[0m\u001b[0;34m\u001b[0m\u001b[0m\n\u001b[0m",
            "\u001b[0;32m<__array_function__ internals>\u001b[0m in \u001b[0;36minv\u001b[0;34m(*args, **kwargs)\u001b[0m\n",
            "\u001b[0;32m/usr/local/lib/python3.7/dist-packages/numpy/linalg/linalg.py\u001b[0m in \u001b[0;36minv\u001b[0;34m(a)\u001b[0m\n\u001b[1;32m    544\u001b[0m     \u001b[0msignature\u001b[0m \u001b[0;34m=\u001b[0m \u001b[0;34m'D->D'\u001b[0m \u001b[0;32mif\u001b[0m \u001b[0misComplexType\u001b[0m\u001b[0;34m(\u001b[0m\u001b[0mt\u001b[0m\u001b[0;34m)\u001b[0m \u001b[0;32melse\u001b[0m \u001b[0;34m'd->d'\u001b[0m\u001b[0;34m\u001b[0m\u001b[0;34m\u001b[0m\u001b[0m\n\u001b[1;32m    545\u001b[0m     \u001b[0mextobj\u001b[0m \u001b[0;34m=\u001b[0m \u001b[0mget_linalg_error_extobj\u001b[0m\u001b[0;34m(\u001b[0m\u001b[0m_raise_linalgerror_singular\u001b[0m\u001b[0;34m)\u001b[0m\u001b[0;34m\u001b[0m\u001b[0;34m\u001b[0m\u001b[0m\n\u001b[0;32m--> 546\u001b[0;31m     \u001b[0mainv\u001b[0m \u001b[0;34m=\u001b[0m \u001b[0m_umath_linalg\u001b[0m\u001b[0;34m.\u001b[0m\u001b[0minv\u001b[0m\u001b[0;34m(\u001b[0m\u001b[0ma\u001b[0m\u001b[0;34m,\u001b[0m \u001b[0msignature\u001b[0m\u001b[0;34m=\u001b[0m\u001b[0msignature\u001b[0m\u001b[0;34m,\u001b[0m \u001b[0mextobj\u001b[0m\u001b[0;34m=\u001b[0m\u001b[0mextobj\u001b[0m\u001b[0;34m)\u001b[0m\u001b[0;34m\u001b[0m\u001b[0;34m\u001b[0m\u001b[0m\n\u001b[0m\u001b[1;32m    547\u001b[0m     \u001b[0;32mreturn\u001b[0m \u001b[0mwrap\u001b[0m\u001b[0;34m(\u001b[0m\u001b[0mainv\u001b[0m\u001b[0;34m.\u001b[0m\u001b[0mastype\u001b[0m\u001b[0;34m(\u001b[0m\u001b[0mresult_t\u001b[0m\u001b[0;34m,\u001b[0m \u001b[0mcopy\u001b[0m\u001b[0;34m=\u001b[0m\u001b[0;32mFalse\u001b[0m\u001b[0;34m)\u001b[0m\u001b[0;34m)\u001b[0m\u001b[0;34m\u001b[0m\u001b[0;34m\u001b[0m\u001b[0m\n\u001b[1;32m    548\u001b[0m \u001b[0;34m\u001b[0m\u001b[0m\n",
            "\u001b[0;32m/usr/local/lib/python3.7/dist-packages/numpy/linalg/linalg.py\u001b[0m in \u001b[0;36m_raise_linalgerror_singular\u001b[0;34m(err, flag)\u001b[0m\n\u001b[1;32m     86\u001b[0m \u001b[0;34m\u001b[0m\u001b[0m\n\u001b[1;32m     87\u001b[0m \u001b[0;32mdef\u001b[0m \u001b[0m_raise_linalgerror_singular\u001b[0m\u001b[0;34m(\u001b[0m\u001b[0merr\u001b[0m\u001b[0;34m,\u001b[0m \u001b[0mflag\u001b[0m\u001b[0;34m)\u001b[0m\u001b[0;34m:\u001b[0m\u001b[0;34m\u001b[0m\u001b[0;34m\u001b[0m\u001b[0m\n\u001b[0;32m---> 88\u001b[0;31m     \u001b[0;32mraise\u001b[0m \u001b[0mLinAlgError\u001b[0m\u001b[0;34m(\u001b[0m\u001b[0;34m\"Singular matrix\"\u001b[0m\u001b[0;34m)\u001b[0m\u001b[0;34m\u001b[0m\u001b[0;34m\u001b[0m\u001b[0m\n\u001b[0m\u001b[1;32m     89\u001b[0m \u001b[0;34m\u001b[0m\u001b[0m\n\u001b[1;32m     90\u001b[0m \u001b[0;32mdef\u001b[0m \u001b[0m_raise_linalgerror_nonposdef\u001b[0m\u001b[0;34m(\u001b[0m\u001b[0merr\u001b[0m\u001b[0;34m,\u001b[0m \u001b[0mflag\u001b[0m\u001b[0;34m)\u001b[0m\u001b[0;34m:\u001b[0m\u001b[0;34m\u001b[0m\u001b[0;34m\u001b[0m\u001b[0m\n",
            "\u001b[0;31mLinAlgError\u001b[0m: Singular matrix"
          ]
        }
      ]
    },
    {
      "cell_type": "markdown",
      "metadata": {
        "id": "G75LpaMmCGtW"
      },
      "source": [
        "### 전치행렬\n",
        "- 행과 열을 바꾼 배열의 형태\n",
        "\n",
        "![](https://upload.wikimedia.org/wikipedia/commons/e/e4/Matrix_transpose.gif)\n",
        "<br /><sub>출처: https://ko.wikipedia.org/wiki/%EC%A0%84%EC%B9%98%ED%96%89%EB%A0%AC</sub>"
      ]
    },
    {
      "cell_type": "code",
      "metadata": {
        "id": "3QKPQKIjBbre",
        "colab": {
          "base_uri": "https://localhost:8080/"
        },
        "outputId": "e9f8cd09-831b-44b2-8aeb-a76e6c9a6af7"
      },
      "source": [
        "A = np.array([[1,2,3], [4,5,6]])\n",
        "print('A\\n',A)\n",
        "print('A.shape\\n', A.shape)\n",
        "print('-----------------------')\n",
        "\n",
        "A_ = A.T\n",
        "print('A의 전치행렬\\n', A_)\n",
        "print('(A.T).shape', A_.shape)\n",
        "B = A_.T\n",
        "print(B)"
      ],
      "execution_count": null,
      "outputs": [
        {
          "output_type": "stream",
          "text": [
            "A\n",
            " [[1 2 3]\n",
            " [4 5 6]]\n",
            "A.shape\n",
            " (2, 3)\n",
            "-----------------------\n",
            "A의 전치행렬\n",
            " [[1 4]\n",
            " [2 5]\n",
            " [3 6]]\n",
            "(A.T).shape (3, 2)\n",
            "[[1 2 3]\n",
            " [4 5 6]]\n"
          ],
          "name": "stdout"
        }
      ]
    },
    {
      "cell_type": "markdown",
      "metadata": {
        "id": "NubNYgh6CKpY"
      },
      "source": [
        "## 3차원 텐서\n",
        "- 보통 이미지를 나타낼 때 사용되는 텐서\n",
        "  - (width, height, channels)\n",
        "  - 일반적으로 Numpy array로 표현  \n",
        "![3d tensor](https://image.slidesharecdn.com/tensordecomposition-170301235239/95/a-brief-survey-of-tensors-5-638.jpg)\n",
        "<br /><sub>출처: https://www.slideshare.net/BertonEarnshaw/a-brief-survey-of-tensors</sub>\n",
        "- 시계열 데이터 또는 시퀀스(sequence) 데이터를 표현할 때도 사용\n",
        "  - (samples, timesteps, features)\n",
        "  - (예시) 주식 가격 데이터셋, 시간에 따른 질병 발병 건수  \n",
        "![](https://kr.mathworks.com/help/deeplearning/examples/timeseriesforecastingusingdeeplearningexample_01_ko_KR.png)\n",
        "<br /><sub>출처: https://kr.mathworks.com/help/deeplearning/examples/time-series-forecasting-using-deep-learning.html</sub>"
      ]
    },
    {
      "cell_type": "code",
      "metadata": {
        "id": "IvVjleI1Bbpn",
        "colab": {
          "base_uri": "https://localhost:8080/"
        },
        "outputId": "66cddc30-d476-4ec8-e00c-256ac8951356"
      },
      "source": [
        "X = np.array([[[1,2,3,4],\n",
        "               [3,2,1,5],\n",
        "               [5,6,7,1]],\n",
        "              [[1,2,3,5],\n",
        "               [1,3,7,4],\n",
        "               [3,3,1,1]],\n",
        "              [[2,3,4,1],\n",
        "               [4,4,4,5],\n",
        "               [5,5,4,4]]])\n",
        "\n",
        "print('X\\n', X, end='\\n\\n')\n",
        "print('X.shape', X.shape)\n",
        "print('X.ndim', np.ndim(X))"
      ],
      "execution_count": null,
      "outputs": [
        {
          "output_type": "stream",
          "text": [
            "X\n",
            " [[[1 2 3 4]\n",
            "  [3 2 1 5]\n",
            "  [5 6 7 1]]\n",
            "\n",
            " [[1 2 3 5]\n",
            "  [1 3 7 4]\n",
            "  [3 3 1 1]]\n",
            "\n",
            " [[2 3 4 1]\n",
            "  [4 4 4 5]\n",
            "  [5 5 4 4]]]\n",
            "\n",
            "X.shape (3, 3, 4)\n",
            "X.ndim 3\n"
          ],
          "name": "stdout"
        }
      ]
    },
    {
      "cell_type": "code",
      "metadata": {
        "id": "CJdUSaqKBbmG",
        "colab": {
          "base_uri": "https://localhost:8080/"
        },
        "outputId": "e3597383-36b0-4eff-b4cb-6764a4f53db9"
      },
      "source": [
        "B = np.array([[[1,2,3],\n",
        "              [2,3,4]],\n",
        "             [[2,3,4],\n",
        "              [1,2,3]]])\n",
        "print('행렬 B\\n', B, end ='\\n\\n')\n",
        "print('B의 전치 행렬\\n', B.T)"
      ],
      "execution_count": null,
      "outputs": [
        {
          "output_type": "stream",
          "text": [
            "행렬 B\n",
            " [[[1 2 3]\n",
            "  [2 3 4]]\n",
            "\n",
            " [[2 3 4]\n",
            "  [1 2 3]]]\n",
            "\n",
            "B의 전치 행렬\n",
            " [[[1 2]\n",
            "  [2 1]]\n",
            "\n",
            " [[2 3]\n",
            "  [3 2]]\n",
            "\n",
            " [[3 4]\n",
            "  [4 3]]]\n"
          ],
          "name": "stdout"
        }
      ]
    },
    {
      "cell_type": "markdown",
      "metadata": {
        "id": "OoBfPQdhCPog"
      },
      "source": [
        "### 3차원 텐서 활용 예시(이미지)\n",
        "- MNIST Dataset\n",
        "- 28x28 사이즈의 gray scale 이미지들로 구성  \n",
        "![이미지](https://upload.wikimedia.org/wikipedia/commons/thumb/2/27/MnistExamples.png/440px-MnistExamples.png)  \n",
        "<sub>출처: https://ko.wikipedia.org/wiki/MNIST_%EB%8D%B0%EC%9D%B4%ED%84%B0%EB%B2%A0%EC%9D%B4%EC%8A%A4</sub>\n",
        "\n",
        "  \n",
        "- gray scale: 0~255의 값을 통해 밝기를 표현 \n",
        "  0으로 갈수록 어두워지고, 255로 갈수록 밝아짐 \n",
        "![이미지](https://miro.medium.com/max/1400/1*euc4RxnNo78LFEGrb-QZ7w.jpeg)  \n",
        "<sub>출처: https://medium.com/@himnickson/converting-rgb-image-to-the-grayscale-image-in-java-9e1edc5bd6e7</sub>\n",
        "\n"
      ]
    },
    {
      "cell_type": "code",
      "metadata": {
        "id": "YmGkMLmEBbkh",
        "colab": {
          "base_uri": "https://localhost:8080/"
        },
        "outputId": "9e847756-3d97-423a-aba7-42b15ac46743"
      },
      "source": [
        "from keras.datasets import mnist\n",
        "(train_images, train_labels), (test_images, test_labels) = mnist.load_data()"
      ],
      "execution_count": null,
      "outputs": [
        {
          "output_type": "stream",
          "text": [
            "Downloading data from https://storage.googleapis.com/tensorflow/tf-keras-datasets/mnist.npz\n",
            "11493376/11490434 [==============================] - 0s 0us/step\n",
            "11501568/11490434 [==============================] - 0s 0us/step\n"
          ],
          "name": "stdout"
        }
      ]
    },
    {
      "cell_type": "code",
      "metadata": {
        "id": "7zV5i29eBbgo",
        "colab": {
          "base_uri": "https://localhost:8080/"
        },
        "outputId": "78131785-6f42-44f6-8996-7007f95042f9"
      },
      "source": [
        "print(train_images.ndim)"
      ],
      "execution_count": null,
      "outputs": [
        {
          "output_type": "stream",
          "text": [
            "3\n"
          ],
          "name": "stdout"
        }
      ]
    },
    {
      "cell_type": "code",
      "metadata": {
        "id": "yWpHOjFyBbfN",
        "colab": {
          "base_uri": "https://localhost:8080/"
        },
        "outputId": "4a8f776b-2c7f-4fd3-e1c4-ffb688f554f6"
      },
      "source": [
        "print(train_images.shape)"
      ],
      "execution_count": null,
      "outputs": [
        {
          "output_type": "stream",
          "text": [
            "(60000, 28, 28)\n"
          ],
          "name": "stdout"
        }
      ]
    },
    {
      "cell_type": "code",
      "metadata": {
        "id": "tRwClWKsBbcg",
        "colab": {
          "base_uri": "https://localhost:8080/"
        },
        "outputId": "a73ee767-c41f-4f8b-f683-f1c212889497"
      },
      "source": [
        "print(train_images.dtype)"
      ],
      "execution_count": null,
      "outputs": [
        {
          "output_type": "stream",
          "text": [
            "uint8\n"
          ],
          "name": "stdout"
        }
      ]
    },
    {
      "cell_type": "code",
      "metadata": {
        "id": "WlN4f8mmBbZI",
        "colab": {
          "base_uri": "https://localhost:8080/",
          "height": 265
        },
        "outputId": "eec796b8-68bf-4d81-bcf7-bc85065560de"
      },
      "source": [
        "temp_image = train_images[3]\n",
        "plt.imshow(temp_image, cmap = 'gray')\n",
        "plt.show()"
      ],
      "execution_count": null,
      "outputs": [
        {
          "output_type": "display_data",
          "data": {
            "image/png": "[encoded data removed]",
            "text/plain": [
              "<Figure size 432x288 with 1 Axes>"
            ]
          },
          "metadata": {
            "needs_background": "light"
          }
        }
      ]
    },
    {
      "cell_type": "markdown",
      "metadata": {
        "id": "6zrYXjEoCnZG"
      },
      "source": [
        "## 브로드캐스팅(broadcasting)\n",
        "- 넘파이에서 다른 형상(shape)끼리 계산 가능\n",
        "\n",
        "- 1차원 텐서\n",
        "\n",
        "![1d](https://numpy.org/doc/1.18/_images/theory.broadcast_1.gif)\n",
        "\n",
        "- 2차원 텐서\n",
        "\n",
        "![2d](https://numpy.org/doc/1.18/_images/theory.broadcast_2.gif)\n",
        "\n",
        "- 더 작은 형상(shape)이 형상이 더 큰 배열에 확장 가능해야함\n",
        "\n",
        "![broadcast](https://numpy.org/doc/1.18/_images/theory.broadcast_3.gif) \n",
        "\n",
        "- (참고) 아래의 경우도 가능\n",
        "\n",
        "![broadcast](https://numpy.org/doc/1.18/_images/theory.broadcast_4.gif)\n",
        "\n",
        "<br /><sub>https://numpy.org/doc/1.18/user/theory.broadcasting.html#array-broadcasting-in-numpy</sub>"
      ]
    },
    {
      "cell_type": "code",
      "metadata": {
        "id": "CvD1A-YzCnLj",
        "colab": {
          "base_uri": "https://localhost:8080/"
        },
        "outputId": "523bbd1e-4c6d-44c6-dae4-e8fa18832790"
      },
      "source": [
        "a = np.array(10)\n",
        "b = np.array([10, 20 ,30])\n",
        "print(np.dot(a,b))\n",
        "print(a * b)"
      ],
      "execution_count": null,
      "outputs": [
        {
          "output_type": "stream",
          "text": [
            "[100 200 300]\n",
            "[100 200 300]\n"
          ],
          "name": "stdout"
        }
      ]
    },
    {
      "cell_type": "code",
      "metadata": {
        "id": "GBqGnivIBbTz",
        "colab": {
          "base_uri": "https://localhost:8080/"
        },
        "outputId": "6126f5e9-6482-4276-ec56-ff4bddabf571"
      },
      "source": [
        "A = np.array([[1,2], [3,4]])\n",
        "B = np.array([10, 20])\n",
        "\n",
        "print('행렬 A\\n', A)\n",
        "print('행렬 B\\n', B)\n",
        "print('A *B \\n', A*B)"
      ],
      "execution_count": null,
      "outputs": [
        {
          "output_type": "stream",
          "text": [
            "행렬 A\n",
            " [[1 2]\n",
            " [3 4]]\n",
            "행렬 B\n",
            " [10 20]\n",
            "A *B \n",
            " [[10 40]\n",
            " [30 80]]\n"
          ],
          "name": "stdout"
        }
      ]
    },
    {
      "cell_type": "code",
      "metadata": {
        "id": "c0CvqipjCq9-",
        "colab": {
          "base_uri": "https://localhost:8080/"
        },
        "outputId": "eea38089-a274-4451-c8f3-24b86af01536"
      },
      "source": [
        "A = np.array([[[1,1,1,],\n",
        "               [2,2,2]],\n",
        "              [[3,3,3],\n",
        "              [4,4,4]]])\n",
        "\n",
        "B = np.array([10,10,10])\n",
        "print('행렬 A\\n', A)\n",
        "print('A.shape', A.shape)\n",
        "print('행렬 B\\n', B)\n",
        "print('B.shape', B.shape)\n",
        "print('A*B\\n', A*B)\n"
      ],
      "execution_count": null,
      "outputs": [
        {
          "output_type": "stream",
          "text": [
            "행렬 A\n",
            " [[[1 1 1]\n",
            "  [2 2 2]]\n",
            "\n",
            " [[3 3 3]\n",
            "  [4 4 4]]]\n",
            "A.shape (2, 2, 3)\n",
            "행렬 B\n",
            " [10 10 10]\n",
            "B.shape (3,)\n",
            "A*B\n",
            " [[[10 10 10]\n",
            "  [20 20 20]]\n",
            "\n",
            " [[30 30 30]\n",
            "  [40 40 40]]]\n"
          ],
          "name": "stdout"
        }
      ]
    },
    {
      "cell_type": "code",
      "metadata": {
        "id": "O3dSdUymCsEh",
        "colab": {
          "base_uri": "https://localhost:8080/",
          "height": 204
        },
        "outputId": "441681e7-e6f7-49d6-c73b-e4b4b5ddc6e0"
      },
      "source": [
        "A = np.array([[1,2,3,],[4,5,6]])\n",
        "B = np.array([10,10])\n",
        "\n",
        "print(A*B)"
      ],
      "execution_count": null,
      "outputs": [
        {
          "output_type": "error",
          "ename": "ValueError",
          "evalue": "ignored",
          "traceback": [
            "\u001b[0;31m---------------------------------------------------------------------------\u001b[0m",
            "\u001b[0;31mValueError\u001b[0m                                Traceback (most recent call last)",
            "\u001b[0;32m<ipython-input-43-918c4761c956>\u001b[0m in \u001b[0;36m<module>\u001b[0;34m()\u001b[0m\n\u001b[1;32m      2\u001b[0m \u001b[0mB\u001b[0m \u001b[0;34m=\u001b[0m \u001b[0mnp\u001b[0m\u001b[0;34m.\u001b[0m\u001b[0marray\u001b[0m\u001b[0;34m(\u001b[0m\u001b[0;34m[\u001b[0m\u001b[0;36m10\u001b[0m\u001b[0;34m,\u001b[0m\u001b[0;36m10\u001b[0m\u001b[0;34m]\u001b[0m\u001b[0;34m)\u001b[0m\u001b[0;34m\u001b[0m\u001b[0;34m\u001b[0m\u001b[0m\n\u001b[1;32m      3\u001b[0m \u001b[0;34m\u001b[0m\u001b[0m\n\u001b[0;32m----> 4\u001b[0;31m \u001b[0mprint\u001b[0m\u001b[0;34m(\u001b[0m\u001b[0mA\u001b[0m\u001b[0;34m*\u001b[0m\u001b[0mB\u001b[0m\u001b[0;34m)\u001b[0m\u001b[0;34m\u001b[0m\u001b[0;34m\u001b[0m\u001b[0m\n\u001b[0m",
            "\u001b[0;31mValueError\u001b[0m: operands could not be broadcast together with shapes (2,3) (2,) "
          ]
        }
      ]
    },
    {
      "cell_type": "markdown",
      "metadata": {
        "id": "oMdQuRrbCvHh"
      },
      "source": [
        "## 4, 5차원 텐서\n",
        "- Color Image Datasets(4차원)\n",
        "  - (samples, height, width, channels) ( Keras, Tensorflow )\n",
        "  - (samples, channels, height, width) ( Pytorch )\n",
        "\n",
        "\n",
        "- 동영상(5차원)\n",
        "  1. (samples, frames, height, width, channels)\n",
        "  2. (samples, frames, channels, height, width)\n",
        "  - 예시 1) (4, 300, 1920, 1080, 3) \n",
        "    - 1920x1080 사이즈 3채널의 300프레임 수를 가진 배치가 4개"
      ]
    },
    {
      "cell_type": "markdown",
      "metadata": {
        "id": "owYBNkzMCxaE"
      },
      "source": [
        "## 텐서 크기 변환\n",
        "- reshape로 텐서의 크기 변환 가능\n",
        "- **변환 전의 원소의 개수와 변환 이후의 텐서의 개수가 같아야** 함"
      ]
    },
    {
      "cell_type": "code",
      "metadata": {
        "id": "s9NyLg5GCxwF",
        "colab": {
          "base_uri": "https://localhost:8080/"
        },
        "outputId": "d63fa5eb-9390-4e14-b4cc-1a3f86a935b6"
      },
      "source": [
        "A = np.array([[1,2,3], [4,5,6]])\n",
        "print('행렬 A\\n', A)\n",
        "print('A.shape', A.shape)\n",
        "\n",
        "print('----------------------------------')\n",
        "A = A.reshape(6)\n",
        "print('A.shape', A.shape)\n",
        "print(A)"
      ],
      "execution_count": null,
      "outputs": [
        {
          "output_type": "stream",
          "text": [
            "행렬 A\n",
            " [[1 2 3]\n",
            " [4 5 6]]\n",
            "A.shape (2, 3)\n",
            "----------------------------------\n",
            "A.shape (6,)\n",
            "[1 2 3 4 5 6]\n"
          ],
          "name": "stdout"
        }
      ]
    },
    {
      "cell_type": "code",
      "metadata": {
        "id": "u1vgBq9fC34Q",
        "colab": {
          "base_uri": "https://localhost:8080/"
        },
        "outputId": "0a65e34a-8b59-451e-ae40-1ee909d9badd"
      },
      "source": [
        "B = np.array([[[2,3,4], [3,3,3]],\n",
        "              [[3,2,1],[1,1,1]]])\n",
        "print('행렬 B\\n', B)\n",
        "print('B.shape', B.shape)\n",
        "print('-----------------------------------')\n",
        "B = B.reshape(3,4)\n",
        "print('B.shape', B.shape)\n",
        "print(B)"
      ],
      "execution_count": null,
      "outputs": [
        {
          "output_type": "stream",
          "text": [
            "행렬 B\n",
            " [[[2 3 4]\n",
            "  [3 3 3]]\n",
            "\n",
            " [[3 2 1]\n",
            "  [1 1 1]]]\n",
            "B.shape (2, 2, 3)\n",
            "-----------------------------------\n",
            "B.shape (3, 4)\n",
            "[[2 3 4 3]\n",
            " [3 3 3 2]\n",
            " [1 1 1 1]]\n"
          ],
          "name": "stdout"
        }
      ]
    },
    {
      "cell_type": "markdown",
      "metadata": {
        "id": "CHN5jR7vC8hO"
      },
      "source": [
        "- -1 을 통해 자동으로 형상을 지정 가능  \n",
        "  원소의 갯수에 맞게 넘파이가 자동으로 형상을 지정  \n",
        "      (2, 2, 3) -> (3, -1)     (O)\n",
        "                -> (2, 1, 6)   (O)\n",
        "                -> (2, -1, -1) (X)\n",
        "                -> (2, 5, -1)  (X) "
      ]
    },
    {
      "cell_type": "code",
      "metadata": {
        "id": "gYLuemhdC5KG",
        "colab": {
          "base_uri": "https://localhost:8080/"
        },
        "outputId": "03b37129-8b4f-455f-c5a5-43f12e47add7"
      },
      "source": [
        "B = np.array([[[2,3,4], [3,3,3]],\n",
        "              [[3,2,1],[1,1,1]]])\n",
        "print('행렬 B\\n', B)\n",
        "print('B.shape', B.shape)\n",
        "print('-----------------------------------')\n",
        "B = B.reshape(4,-1)\n",
        "print('B.shape', B.shape)\n",
        "print(B)"
      ],
      "execution_count": null,
      "outputs": [
        {
          "output_type": "stream",
          "text": [
            "행렬 B\n",
            " [[[2 3 4]\n",
            "  [3 3 3]]\n",
            "\n",
            " [[3 2 1]\n",
            "  [1 1 1]]]\n",
            "B.shape (2, 2, 3)\n",
            "-----------------------------------\n",
            "B.shape (4, 3)\n",
            "[[2 3 4]\n",
            " [3 3 3]\n",
            " [3 2 1]\n",
            " [1 1 1]]\n"
          ],
          "name": "stdout"
        }
      ]
    },
    {
      "cell_type": "code",
      "metadata": {
        "id": "DDaUwICro6G6"
      },
      "source": [
        ""
      ],
      "execution_count": null,
      "outputs": []
    }
  ]
}